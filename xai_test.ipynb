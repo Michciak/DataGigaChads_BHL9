{
 "cells": [
  {
   "cell_type": "code",
   "execution_count": 9,
   "metadata": {},
   "outputs": [],
   "source": [
    "import dalex as dx\n",
    "import pickle as pkl\n",
    "import data_prep\n",
    "import pandas as pd\n",
    "import plotly.graph_objects as go"
   ]
  },
  {
   "cell_type": "code",
   "execution_count": 10,
   "metadata": {},
   "outputs": [],
   "source": [
    "import pandas as pd\n",
    "from sklearn.model_selection import train_test_split\n",
    "data = pd.read_csv(\"marketing_campaign.csv\", sep = \";\")\n",
    "X = data.drop(\"Response\", axis=1)\n",
    "y = data[\"Response\"]"
   ]
  },
  {
   "cell_type": "code",
   "execution_count": 11,
   "metadata": {},
   "outputs": [],
   "source": [
    "X_train, X_test, y_train, y_test = train_test_split(X, y, test_size=0.2, random_state = 2115)"
   ]
  },
  {
   "cell_type": "code",
   "execution_count": 12,
   "metadata": {},
   "outputs": [],
   "source": [
    "from sklearn.base import BaseEstimator, TransformerMixin\n",
    "class YearFromDtTransformer(BaseEstimator, TransformerMixin):\n",
    "    def __init__(self):\n",
    "        pass\n",
    "\n",
    "    def fit(self, X, y=None):\n",
    "        return self\n",
    "\n",
    "    def transform(self, X):\n",
    "        # Assuming X is a DataFrame and \"Dt_Customer\" is one of its columns\n",
    "        year_column = X[\"Dt_Customer\"].str[:4].astype(int)\n",
    "        return year_column.values.reshape(-1, 1)"
   ]
  },
  {
   "cell_type": "code",
   "execution_count": 13,
   "metadata": {},
   "outputs": [],
   "source": [
    "# rf = pkl.load(open(\"models/rf1.pkl\", 'rb'))\n",
    "xgb = pkl.load(open(\"models/xgb_v2.pkl\", 'rb'))"
   ]
  },
  {
   "cell_type": "code",
   "execution_count": 29,
   "metadata": {},
   "outputs": [],
   "source": [
    "df = pd.read_csv(\"marketing_campaign.csv\", sep=\";\")\n",
    "\n",
    "x_train, y_train, x_test, y_test = data_prep.prep_data(df)"
   ]
  },
  {
   "cell_type": "code",
   "execution_count": 14,
   "metadata": {},
   "outputs": [
    {
     "name": "stdout",
     "output_type": "stream",
     "text": [
      "Preparation of a new explainer is initiated\n",
      "\n",
      "  -> data              : 1792 rows 28 cols\n",
      "  -> target variable   : Parameter 'y' was a pandas.Series. Converted to a numpy.ndarray.\n",
      "  -> target variable   : 1792 values\n",
      "  -> model_class       : xgboost.sklearn.XGBClassifier (default)\n",
      "  -> label             : Not specified, model's class short name will be used. (default)\n",
      "  -> predict function  : <function yhat_proba_default at 0x0000027B055EF880> will be used (default)\n",
      "  -> predict function  : Accepts only pandas.DataFrame, numpy.ndarray causes problems.\n",
      "  -> predicted values  : min = 2.4e-05, mean = 0.147, max = 0.994\n",
      "  -> model type        : classification will be used\n",
      "  -> residual function : difference between y and yhat (default)\n",
      "  -> residuals         : min = -0.525, mean = 6.92e-05, max = 0.768\n",
      "  -> model_info        : package imblearn\n",
      "\n",
      "A new explainer has been created!\n"
     ]
    }
   ],
   "source": [
    "# exp = dx.Explainer(rf, x_train, y_train, model_type=\"classification\")\n",
    "exp = dx.Explainer(xgb, X_train, y_train, model_type=\"classification\")"
   ]
  },
  {
   "cell_type": "code",
   "execution_count": 54,
   "metadata": {},
   "outputs": [
    {
     "data": {
      "text/html": [
       "<div>\n",
       "<style scoped>\n",
       "    .dataframe tbody tr th:only-of-type {\n",
       "        vertical-align: middle;\n",
       "    }\n",
       "\n",
       "    .dataframe tbody tr th {\n",
       "        vertical-align: top;\n",
       "    }\n",
       "\n",
       "    .dataframe thead th {\n",
       "        text-align: right;\n",
       "    }\n",
       "</style>\n",
       "<table border=\"1\" class=\"dataframe\">\n",
       "  <thead>\n",
       "    <tr style=\"text-align: right;\">\n",
       "      <th></th>\n",
       "      <th>recall</th>\n",
       "      <th>precision</th>\n",
       "      <th>f1</th>\n",
       "      <th>accuracy</th>\n",
       "      <th>auc</th>\n",
       "    </tr>\n",
       "  </thead>\n",
       "  <tbody>\n",
       "    <tr>\n",
       "      <th>XGBClassifier</th>\n",
       "      <td>0.942966</td>\n",
       "      <td>0.984127</td>\n",
       "      <td>0.963107</td>\n",
       "      <td>0.989397</td>\n",
       "      <td>0.999478</td>\n",
       "    </tr>\n",
       "  </tbody>\n",
       "</table>\n",
       "</div>"
      ],
      "text/plain": [
       "<dalex.model_explanations._model_performance.object.ModelPerformance at 0x1c4e044ee60>"
      ]
     },
     "execution_count": 54,
     "metadata": {},
     "output_type": "execute_result"
    }
   ],
   "source": [
    "exp.model_performance()"
   ]
  },
  {
   "cell_type": "code",
   "execution_count": 55,
   "metadata": {},
   "outputs": [],
   "source": [
    "mp = exp.model_parts()"
   ]
  },
  {
   "cell_type": "code",
   "execution_count": 56,
   "metadata": {},
   "outputs": [
    {
     "data": {
      "text/html": [
       "<div>\n",
       "<style scoped>\n",
       "    .dataframe tbody tr th:only-of-type {\n",
       "        vertical-align: middle;\n",
       "    }\n",
       "\n",
       "    .dataframe tbody tr th {\n",
       "        vertical-align: top;\n",
       "    }\n",
       "\n",
       "    .dataframe thead th {\n",
       "        text-align: right;\n",
       "    }\n",
       "</style>\n",
       "<table border=\"1\" class=\"dataframe\">\n",
       "  <thead>\n",
       "    <tr style=\"text-align: right;\">\n",
       "      <th></th>\n",
       "      <th>variable</th>\n",
       "      <th>dropout_loss</th>\n",
       "      <th>label</th>\n",
       "    </tr>\n",
       "  </thead>\n",
       "  <tbody>\n",
       "    <tr>\n",
       "      <th>1</th>\n",
       "      <td>AcceptedCmp2</td>\n",
       "      <td>0.000533</td>\n",
       "      <td>XGBClassifier</td>\n",
       "    </tr>\n",
       "    <tr>\n",
       "      <th>2</th>\n",
       "      <td>Z_Revenue</td>\n",
       "      <td>0.000533</td>\n",
       "      <td>XGBClassifier</td>\n",
       "    </tr>\n",
       "    <tr>\n",
       "      <th>3</th>\n",
       "      <td>Z_CostContact</td>\n",
       "      <td>0.000533</td>\n",
       "      <td>XGBClassifier</td>\n",
       "    </tr>\n",
       "    <tr>\n",
       "      <th>4</th>\n",
       "      <td>Complain</td>\n",
       "      <td>0.000533</td>\n",
       "      <td>XGBClassifier</td>\n",
       "    </tr>\n",
       "    <tr>\n",
       "      <th>5</th>\n",
       "      <td>NumDealsPurchases</td>\n",
       "      <td>0.001324</td>\n",
       "      <td>XGBClassifier</td>\n",
       "    </tr>\n",
       "    <tr>\n",
       "      <th>6</th>\n",
       "      <td>NumWebPurchases</td>\n",
       "      <td>0.001780</td>\n",
       "      <td>XGBClassifier</td>\n",
       "    </tr>\n",
       "    <tr>\n",
       "      <th>7</th>\n",
       "      <td>Kidhome</td>\n",
       "      <td>0.001808</td>\n",
       "      <td>XGBClassifier</td>\n",
       "    </tr>\n",
       "    <tr>\n",
       "      <th>8</th>\n",
       "      <td>AcceptedCmp4</td>\n",
       "      <td>0.002083</td>\n",
       "      <td>XGBClassifier</td>\n",
       "    </tr>\n",
       "    <tr>\n",
       "      <th>9</th>\n",
       "      <td>Year_Birth</td>\n",
       "      <td>0.002438</td>\n",
       "      <td>XGBClassifier</td>\n",
       "    </tr>\n",
       "    <tr>\n",
       "      <th>10</th>\n",
       "      <td>Education</td>\n",
       "      <td>0.002632</td>\n",
       "      <td>XGBClassifier</td>\n",
       "    </tr>\n",
       "    <tr>\n",
       "      <th>11</th>\n",
       "      <td>MntFishProducts</td>\n",
       "      <td>0.003039</td>\n",
       "      <td>XGBClassifier</td>\n",
       "    </tr>\n",
       "    <tr>\n",
       "      <th>12</th>\n",
       "      <td>MntSweetProducts</td>\n",
       "      <td>0.003135</td>\n",
       "      <td>XGBClassifier</td>\n",
       "    </tr>\n",
       "    <tr>\n",
       "      <th>13</th>\n",
       "      <td>Teenhome</td>\n",
       "      <td>0.003166</td>\n",
       "      <td>XGBClassifier</td>\n",
       "    </tr>\n",
       "    <tr>\n",
       "      <th>14</th>\n",
       "      <td>AcceptedCmp1</td>\n",
       "      <td>0.003267</td>\n",
       "      <td>XGBClassifier</td>\n",
       "    </tr>\n",
       "    <tr>\n",
       "      <th>15</th>\n",
       "      <td>Income</td>\n",
       "      <td>0.003302</td>\n",
       "      <td>XGBClassifier</td>\n",
       "    </tr>\n",
       "    <tr>\n",
       "      <th>16</th>\n",
       "      <td>ID</td>\n",
       "      <td>0.003543</td>\n",
       "      <td>XGBClassifier</td>\n",
       "    </tr>\n",
       "    <tr>\n",
       "      <th>17</th>\n",
       "      <td>AcceptedCmp3</td>\n",
       "      <td>0.003756</td>\n",
       "      <td>XGBClassifier</td>\n",
       "    </tr>\n",
       "    <tr>\n",
       "      <th>18</th>\n",
       "      <td>NumCatalogPurchases</td>\n",
       "      <td>0.003970</td>\n",
       "      <td>XGBClassifier</td>\n",
       "    </tr>\n",
       "    <tr>\n",
       "      <th>19</th>\n",
       "      <td>MntFruits</td>\n",
       "      <td>0.004005</td>\n",
       "      <td>XGBClassifier</td>\n",
       "    </tr>\n",
       "    <tr>\n",
       "      <th>20</th>\n",
       "      <td>AcceptedCmp5</td>\n",
       "      <td>0.004343</td>\n",
       "      <td>XGBClassifier</td>\n",
       "    </tr>\n",
       "    <tr>\n",
       "      <th>21</th>\n",
       "      <td>MntGoldProds</td>\n",
       "      <td>0.004631</td>\n",
       "      <td>XGBClassifier</td>\n",
       "    </tr>\n",
       "    <tr>\n",
       "      <th>22</th>\n",
       "      <td>NumStorePurchases</td>\n",
       "      <td>0.005465</td>\n",
       "      <td>XGBClassifier</td>\n",
       "    </tr>\n",
       "    <tr>\n",
       "      <th>23</th>\n",
       "      <td>MntWines</td>\n",
       "      <td>0.006446</td>\n",
       "      <td>XGBClassifier</td>\n",
       "    </tr>\n",
       "    <tr>\n",
       "      <th>24</th>\n",
       "      <td>NumWebVisitsMonth</td>\n",
       "      <td>0.007404</td>\n",
       "      <td>XGBClassifier</td>\n",
       "    </tr>\n",
       "    <tr>\n",
       "      <th>25</th>\n",
       "      <td>Dt_Customer</td>\n",
       "      <td>0.011835</td>\n",
       "      <td>XGBClassifier</td>\n",
       "    </tr>\n",
       "    <tr>\n",
       "      <th>26</th>\n",
       "      <td>Marital_Status</td>\n",
       "      <td>0.014411</td>\n",
       "      <td>XGBClassifier</td>\n",
       "    </tr>\n",
       "    <tr>\n",
       "      <th>27</th>\n",
       "      <td>MntMeatProducts</td>\n",
       "      <td>0.016517</td>\n",
       "      <td>XGBClassifier</td>\n",
       "    </tr>\n",
       "    <tr>\n",
       "      <th>28</th>\n",
       "      <td>Recency</td>\n",
       "      <td>0.051691</td>\n",
       "      <td>XGBClassifier</td>\n",
       "    </tr>\n",
       "  </tbody>\n",
       "</table>\n",
       "</div>"
      ],
      "text/plain": [
       "               variable  dropout_loss          label\n",
       "1          AcceptedCmp2      0.000533  XGBClassifier\n",
       "2             Z_Revenue      0.000533  XGBClassifier\n",
       "3         Z_CostContact      0.000533  XGBClassifier\n",
       "4              Complain      0.000533  XGBClassifier\n",
       "5     NumDealsPurchases      0.001324  XGBClassifier\n",
       "6       NumWebPurchases      0.001780  XGBClassifier\n",
       "7               Kidhome      0.001808  XGBClassifier\n",
       "8          AcceptedCmp4      0.002083  XGBClassifier\n",
       "9            Year_Birth      0.002438  XGBClassifier\n",
       "10            Education      0.002632  XGBClassifier\n",
       "11      MntFishProducts      0.003039  XGBClassifier\n",
       "12     MntSweetProducts      0.003135  XGBClassifier\n",
       "13             Teenhome      0.003166  XGBClassifier\n",
       "14         AcceptedCmp1      0.003267  XGBClassifier\n",
       "15               Income      0.003302  XGBClassifier\n",
       "16                   ID      0.003543  XGBClassifier\n",
       "17         AcceptedCmp3      0.003756  XGBClassifier\n",
       "18  NumCatalogPurchases      0.003970  XGBClassifier\n",
       "19            MntFruits      0.004005  XGBClassifier\n",
       "20         AcceptedCmp5      0.004343  XGBClassifier\n",
       "21         MntGoldProds      0.004631  XGBClassifier\n",
       "22    NumStorePurchases      0.005465  XGBClassifier\n",
       "23             MntWines      0.006446  XGBClassifier\n",
       "24    NumWebVisitsMonth      0.007404  XGBClassifier\n",
       "25          Dt_Customer      0.011835  XGBClassifier\n",
       "26       Marital_Status      0.014411  XGBClassifier\n",
       "27      MntMeatProducts      0.016517  XGBClassifier\n",
       "28              Recency      0.051691  XGBClassifier"
      ]
     },
     "execution_count": 56,
     "metadata": {},
     "output_type": "execute_result"
    }
   ],
   "source": [
    "vip = mp.result\n",
    "vip.sort_values(by=\"dropout_loss\", ascending=False)\n",
    "exclude_values = [\"_baseline_\",\"_full_model_\"]\n",
    "vip = vip.query('variable not in @exclude_values')\n",
    "vip"
   ]
  },
  {
   "cell_type": "code",
   "execution_count": 57,
   "metadata": {},
   "outputs": [
    {
     "data": {
      "application/vnd.plotly.v1+json": {
       "config": {
        "displaylogo": false,
        "modeBarButtonsToRemove": [
         "sendDataToCloud",
         "lasso2d",
         "autoScale2d",
         "select2d",
         "zoom2d",
         "pan2d",
         "zoomIn2d",
         "zoomOut2d",
         "resetScale2d",
         "toggleSpikelines",
         "hoverCompareCartesian",
         "hoverClosestCartesian"
        ],
        "plotlyServerURL": "https://plot.ly",
        "staticPlot": false,
        "toImageButtonOptions": {
         "height": null,
         "width": null
        }
       },
       "data": [
        {
         "base": 0.0005332863588865866,
         "hoverinfo": "text",
         "hoverlabel": {
          "bgcolor": "rgba(0,0,0,0.8)"
         },
         "hovertext": [
          "Model: XGBClassifier loss after<br>variable: Recency is permuted: 0.052<br>Drop-out loss change: +0.051",
          "Model: XGBClassifier loss after<br>variable: MntMeatProducts is permuted: 0.017<br>Drop-out loss change: +0.016",
          "Model: XGBClassifier loss after<br>variable: Marital_Status is permuted: 0.014<br>Drop-out loss change: +0.014",
          "Model: XGBClassifier loss after<br>variable: Dt_Customer is permuted: 0.012<br>Drop-out loss change: +0.011",
          "Model: XGBClassifier loss after<br>variable: NumWebVisitsMonth is permuted: 0.007<br>Drop-out loss change: +0.007",
          "Model: XGBClassifier loss after<br>variable: MntWines is permuted: 0.006<br>Drop-out loss change: +0.006",
          "Model: XGBClassifier loss after<br>variable: NumStorePurchases is permuted: 0.005<br>Drop-out loss change: +0.005",
          "Model: XGBClassifier loss after<br>variable: MntGoldProds is permuted: 0.005<br>Drop-out loss change: +0.004",
          "Model: XGBClassifier loss after<br>variable: AcceptedCmp5 is permuted: 0.004<br>Drop-out loss change: +0.004",
          "Model: XGBClassifier loss after<br>variable: MntFruits is permuted: 0.004<br>Drop-out loss change: +0.003"
         ],
         "marker": {
          "color": "#46bac2"
         },
         "orientation": "h",
         "showlegend": false,
         "text": [
          "+0.051",
          "+0.016",
          "+0.014",
          "+0.011",
          "+0.007",
          "+0.006",
          "+0.005",
          "+0.004",
          "+0.004",
          "+0.003"
         ],
         "textposition": "outside",
         "type": "bar",
         "x": [
          0.05115739013975794,
          0.015984008152716698,
          0.013877616955385386,
          0.011301294202777491,
          0.006870878379179835,
          0.005913208932489412,
          0.004931793657511474,
          0.0040972231656729256,
          0.0038096825411268573,
          0.0034714569402836347
         ],
         "xaxis": "x",
         "y": [
          "Recency",
          "MntMeatProducts",
          "Marital_Status",
          "Dt_Customer",
          "NumWebVisitsMonth",
          "MntWines",
          "NumStorePurchases",
          "MntGoldProds",
          "AcceptedCmp5",
          "MntFruits"
         ],
         "yaxis": "y"
        }
       ],
       "layout": {
        "annotations": [
         {
          "font": {
           "size": 16
          },
          "showarrow": false,
          "text": "XGBClassifier",
          "x": 0.5,
          "xanchor": "center",
          "xref": "paper",
          "y": 1,
          "yanchor": "bottom",
          "yref": "paper"
         },
         {
          "font": {
           "size": 16
          },
          "showarrow": false,
          "text": "drop-out loss",
          "x": 0.5,
          "xanchor": "center",
          "xref": "paper",
          "y": 0,
          "yanchor": "top",
          "yref": "paper",
          "yshift": -30
         }
        ],
        "font": {
         "color": "#371ea3"
        },
        "height": 383,
        "margin": {
         "b": 71,
         "r": 30,
         "t": 78
        },
        "shapes": [
         {
          "line": {
           "color": "#371ea3",
           "dash": "dot",
           "width": 1.5
          },
          "type": "line",
          "x0": 0.0005332863588865866,
          "x1": 0.0005332863588865866,
          "xref": "x",
          "y0": -1,
          "y1": 10,
          "yref": "y"
         }
        ],
        "template": {
         "data": {
          "scatter": [
           {
            "type": "scatter"
           }
          ]
         }
        },
        "title": {
         "text": "Variable Importance",
         "x": 0.15
        },
        "xaxis": {
         "anchor": "y",
         "automargin": true,
         "domain": [
          0,
          1
         ],
         "fixedrange": true,
         "gridwidth": 2,
         "range": [
          -0.0071403221620771045,
          0.05936428501960822
         ],
         "tickcolor": "white",
         "ticklen": 3,
         "ticks": "outside",
         "type": "linear",
         "zeroline": false
        },
        "yaxis": {
         "anchor": "x",
         "automargin": true,
         "autorange": "reversed",
         "domain": [
          0,
          1
         ],
         "fixedrange": true,
         "gridwidth": 2,
         "tickcolor": "white",
         "ticklen": 10,
         "ticks": "outside",
         "type": "category"
        }
       }
      }
     },
     "metadata": {},
     "output_type": "display_data"
    }
   ],
   "source": [
    "mp.plot()"
   ]
  },
  {
   "cell_type": "code",
   "execution_count": 16,
   "metadata": {},
   "outputs": [
    {
     "name": "stderr",
     "output_type": "stream",
     "text": [
      "Calculating ceteris paribus:   0%|          | 0/3 [00:00<?, ?it/s]d:\\Programy\\miniconda3\\envs\\bhl9\\lib\\site-packages\\dalex\\predict_explanations\\_ceteris_paribus\\utils.py:104: FutureWarning: Setting an item of incompatible dtype is deprecated and will raise in a future error of pandas. Value '[   0.     17.25   34.5  ... 1690.5  1707.75 1725.  ]' has dtype incompatible with int64, please explicitly cast to a compatible dtype first.\n",
      "  new_data.loc[:, variable] = np.tile(split_points, data.shape[0])\n",
      "Calculating ceteris paribus:  33%|███▎      | 1/3 [00:00<00:00,  7.93it/s]d:\\Programy\\miniconda3\\envs\\bhl9\\lib\\site-packages\\dalex\\predict_explanations\\_ceteris_paribus\\utils.py:104: FutureWarning: Setting an item of incompatible dtype is deprecated and will raise in a future error of pandas. Value '[ 0.    0.99  1.98 ... 97.02 98.01 99.  ]' has dtype incompatible with int64, please explicitly cast to a compatible dtype first.\n",
      "  new_data.loc[:, variable] = np.tile(split_points, data.shape[0])\n",
      "Calculating ceteris paribus: 100%|██████████| 3/3 [00:00<00:00,  9.08it/s]\n"
     ]
    }
   ],
   "source": [
    "pd_rf = exp.model_profile(variables=[\"MntMeatProducts\",\"Recency\",\"Marital_Status\"])"
   ]
  },
  {
   "cell_type": "code",
   "execution_count": 39,
   "metadata": {},
   "outputs": [
    {
     "name": "stderr",
     "output_type": "stream",
     "text": [
      "Calculating ceteris paribus: 100%|██████████| 1/1 [00:00<00:00, 34.60it/s]\n"
     ]
    }
   ],
   "source": [
    "pd_rf = exp.model_profile(variables=[\"Marital_Status\"],variable_type=\"categorical\")"
   ]
  },
  {
   "cell_type": "code",
   "execution_count": 23,
   "metadata": {},
   "outputs": [
    {
     "data": {
      "application/vnd.plotly.v1+json": {
       "config": {
        "displaylogo": false,
        "modeBarButtonsToRemove": [
         "sendDataToCloud",
         "lasso2d",
         "autoScale2d",
         "select2d",
         "zoom2d",
         "pan2d",
         "zoomIn2d",
         "zoomOut2d",
         "resetScale2d",
         "toggleSpikelines",
         "hoverCompareCartesian",
         "hoverClosestCartesian"
        ],
        "plotlyServerURL": "https://plot.ly",
        "staticPlot": false,
        "toImageButtonOptions": {
         "height": null,
         "width": null
        }
       },
       "data": [
        {
         "alignmentgroup": "True",
         "base": [
          0.11459337919950485,
          0.11459337919950485,
          0.11459337919950485,
          0.11459337919950485,
          0.11459337919950485,
          0.11459337919950485,
          0.11459337919950485,
          0.11459337919950485
         ],
         "customdata": [
          [
           0.17041799426078796,
           "XGBClassifier",
           "Marital_Status"
          ],
          [
           0.13274742662906647,
           "XGBClassifier",
           "Marital_Status"
          ],
          [
           0.14343437552452087,
           "XGBClassifier",
           "Marital_Status"
          ],
          [
           0.09435591101646423,
           "XGBClassifier",
           "Marital_Status"
          ],
          [
           0.09115393459796906,
           "XGBClassifier",
           "Marital_Status"
          ],
          [
           0.13274742662906647,
           "XGBClassifier",
           "Marital_Status"
          ],
          [
           0.13274742662906647,
           "XGBClassifier",
           "Marital_Status"
          ],
          [
           0.13274742662906647,
           "XGBClassifier",
           "Marital_Status"
          ]
         ],
         "hovertemplate": "<b>%{hovertext}</b><br><br>mean_prediction=%{base:.3f}<br>prediction=%{customdata[0]:.3f}<extra></extra>",
         "hovertext": [
          "XGBClassifier",
          "XGBClassifier",
          "XGBClassifier",
          "XGBClassifier",
          "XGBClassifier",
          "XGBClassifier",
          "XGBClassifier",
          "XGBClassifier"
         ],
         "legendgroup": "XGBClassifier",
         "marker": {
          "color": "#46bac2",
          "pattern": {
           "shape": ""
          }
         },
         "name": "XGBClassifier",
         "offsetgroup": "XGBClassifier",
         "orientation": "v",
         "showlegend": true,
         "textposition": "auto",
         "type": "bar",
         "x": [
          "Single",
          "Widow",
          "Divorced",
          "Married",
          "Together",
          "YOLO",
          "Alone",
          "Absurd"
         ],
         "xaxis": "x",
         "y": [
          0.05582461506128311,
          0.018154047429561615,
          0.02884099632501602,
          -0.02023746818304062,
          -0.023439444601535797,
          0.018154047429561615,
          0.018154047429561615,
          0.018154047429561615
         ],
         "yaxis": "y"
        }
       ],
       "layout": {
        "annotations": [
         {
          "font": {
           "size": 13
          },
          "showarrow": false,
          "text": "Marital_Status",
          "x": 0.5,
          "xanchor": "center",
          "xref": "paper",
          "y": 1,
          "yanchor": "bottom",
          "yref": "paper"
         },
         {
          "font": {
           "size": 13
          },
          "showarrow": false,
          "text": "prediction",
          "textangle": -90,
          "x": -0.07,
          "xref": "paper",
          "y": 0.5,
          "yref": "paper"
         }
        ],
        "barmode": "group",
        "font": {
         "color": "#371ea3"
        },
        "height": 489,
        "hovermode": "x unified",
        "legend": {
         "font": {
          "size": 11
         },
         "itemsizing": "constant",
         "orientation": "h",
         "title": {
          "font": {
           "size": 12
          },
          "text": "label"
         },
         "tracegroupgap": 0,
         "x": 1,
         "xanchor": "right",
         "y": 1.0613496932515338,
         "yanchor": "bottom"
        },
        "margin": {
         "b": 71,
         "r": 30,
         "t": 78
        },
        "shapes": [
         {
          "layer": "below",
          "line": {
           "color": "#371ea3",
           "dash": "dot",
           "width": 1.5
          },
          "type": "line",
          "x0": 0,
          "x1": 1,
          "xref": "x domain",
          "y0": 0.11459337919950485,
          "y1": 0.11459337919950485,
          "yref": "y"
         }
        ],
        "template": {
         "data": {
          "scatter": [
           {
            "type": "scatter"
           }
          ]
         }
        },
        "title": {
         "font": {
          "size": 16
         },
         "text": "Aggregated Profiles",
         "x": 0.15
        },
        "xaxis": {
         "anchor": "y",
         "automargin": true,
         "domain": [
          0,
          1
         ],
         "fixedrange": true,
         "gridwidth": 2,
         "showticklabels": true,
         "tickcolor": "white",
         "ticklen": 10,
         "ticks": "outside",
         "title": {
          "text": ""
         },
         "type": "category"
        },
        "yaxis": {
         "anchor": "x",
         "automargin": true,
         "domain": [
          0,
          1
         ],
         "fixedrange": true,
         "gridwidth": 2,
         "range": [
          0.08322752863168717,
          0.17834440022706985
         ],
         "tickcolor": "white",
         "ticklen": 3,
         "ticks": "outside",
         "title": {
          "text": ""
         },
         "type": "linear",
         "zeroline": false
        }
       }
      }
     },
     "metadata": {},
     "output_type": "display_data"
    }
   ],
   "source": [
    "pd_rf.plot()"
   ]
  },
  {
   "cell_type": "code",
   "execution_count": 31,
   "metadata": {},
   "outputs": [
    {
     "data": {
      "text/plain": [
       "0.16062571"
      ]
     },
     "execution_count": 31,
     "metadata": {},
     "output_type": "execute_result"
    }
   ],
   "source": [
    "pd_rf.mean_prediction"
   ]
  },
  {
   "cell_type": "code",
   "execution_count": 40,
   "metadata": {},
   "outputs": [
    {
     "data": {
      "text/html": [
       "<div>\n",
       "<style scoped>\n",
       "    .dataframe tbody tr th:only-of-type {\n",
       "        vertical-align: middle;\n",
       "    }\n",
       "\n",
       "    .dataframe tbody tr th {\n",
       "        vertical-align: top;\n",
       "    }\n",
       "\n",
       "    .dataframe thead th {\n",
       "        text-align: right;\n",
       "    }\n",
       "</style>\n",
       "<table border=\"1\" class=\"dataframe\">\n",
       "  <thead>\n",
       "    <tr style=\"text-align: right;\">\n",
       "      <th></th>\n",
       "      <th>_vname_</th>\n",
       "      <th>_label_</th>\n",
       "      <th>_x_</th>\n",
       "      <th>_yhat_</th>\n",
       "      <th>_ids_</th>\n",
       "    </tr>\n",
       "  </thead>\n",
       "  <tbody>\n",
       "    <tr>\n",
       "      <th>0</th>\n",
       "      <td>Marital_Status</td>\n",
       "      <td>XGBClassifier</td>\n",
       "      <td>Single</td>\n",
       "      <td>0.196404</td>\n",
       "      <td>0</td>\n",
       "    </tr>\n",
       "    <tr>\n",
       "      <th>1</th>\n",
       "      <td>Marital_Status</td>\n",
       "      <td>XGBClassifier</td>\n",
       "      <td>Widow</td>\n",
       "      <td>0.161578</td>\n",
       "      <td>0</td>\n",
       "    </tr>\n",
       "    <tr>\n",
       "      <th>2</th>\n",
       "      <td>Marital_Status</td>\n",
       "      <td>XGBClassifier</td>\n",
       "      <td>Divorced</td>\n",
       "      <td>0.170683</td>\n",
       "      <td>0</td>\n",
       "    </tr>\n",
       "    <tr>\n",
       "      <th>3</th>\n",
       "      <td>Marital_Status</td>\n",
       "      <td>XGBClassifier</td>\n",
       "      <td>Married</td>\n",
       "      <td>0.120944</td>\n",
       "      <td>0</td>\n",
       "    </tr>\n",
       "    <tr>\n",
       "      <th>4</th>\n",
       "      <td>Marital_Status</td>\n",
       "      <td>XGBClassifier</td>\n",
       "      <td>Together</td>\n",
       "      <td>0.117419</td>\n",
       "      <td>0</td>\n",
       "    </tr>\n",
       "    <tr>\n",
       "      <th>5</th>\n",
       "      <td>Marital_Status</td>\n",
       "      <td>XGBClassifier</td>\n",
       "      <td>YOLO</td>\n",
       "      <td>0.161578</td>\n",
       "      <td>0</td>\n",
       "    </tr>\n",
       "    <tr>\n",
       "      <th>6</th>\n",
       "      <td>Marital_Status</td>\n",
       "      <td>XGBClassifier</td>\n",
       "      <td>Alone</td>\n",
       "      <td>0.161578</td>\n",
       "      <td>0</td>\n",
       "    </tr>\n",
       "    <tr>\n",
       "      <th>7</th>\n",
       "      <td>Marital_Status</td>\n",
       "      <td>XGBClassifier</td>\n",
       "      <td>Absurd</td>\n",
       "      <td>0.161578</td>\n",
       "      <td>0</td>\n",
       "    </tr>\n",
       "  </tbody>\n",
       "</table>\n",
       "</div>"
      ],
      "text/plain": [
       "          _vname_        _label_       _x_    _yhat_  _ids_\n",
       "0  Marital_Status  XGBClassifier    Single  0.196404      0\n",
       "1  Marital_Status  XGBClassifier     Widow  0.161578      0\n",
       "2  Marital_Status  XGBClassifier  Divorced  0.170683      0\n",
       "3  Marital_Status  XGBClassifier   Married  0.120944      0\n",
       "4  Marital_Status  XGBClassifier  Together  0.117419      0\n",
       "5  Marital_Status  XGBClassifier      YOLO  0.161578      0\n",
       "6  Marital_Status  XGBClassifier     Alone  0.161578      0\n",
       "7  Marital_Status  XGBClassifier    Absurd  0.161578      0"
      ]
     },
     "execution_count": 40,
     "metadata": {},
     "output_type": "execute_result"
    }
   ],
   "source": [
    "pd_rf.result"
   ]
  },
  {
   "cell_type": "code",
   "execution_count": 37,
   "metadata": {},
   "outputs": [
    {
     "data": {
      "text/plain": [
       "0.1766701489686966"
      ]
     },
     "execution_count": 37,
     "metadata": {},
     "output_type": "execute_result"
    }
   ],
   "source": [
    "pd_rf[\"_yhat_\"].sum()/8"
   ]
  },
  {
   "cell_type": "code",
   "execution_count": 61,
   "metadata": {},
   "outputs": [
    {
     "data": {
      "text/html": [
       "<div>\n",
       "<style scoped>\n",
       "    .dataframe tbody tr th:only-of-type {\n",
       "        vertical-align: middle;\n",
       "    }\n",
       "\n",
       "    .dataframe tbody tr th {\n",
       "        vertical-align: top;\n",
       "    }\n",
       "\n",
       "    .dataframe thead th {\n",
       "        text-align: right;\n",
       "    }\n",
       "</style>\n",
       "<table border=\"1\" class=\"dataframe\">\n",
       "  <thead>\n",
       "    <tr style=\"text-align: right;\">\n",
       "      <th></th>\n",
       "      <th>_vname_</th>\n",
       "      <th>_label_</th>\n",
       "      <th>_x_</th>\n",
       "      <th>_yhat_</th>\n",
       "      <th>_ids_</th>\n",
       "    </tr>\n",
       "  </thead>\n",
       "  <tbody>\n",
       "    <tr>\n",
       "      <th>101</th>\n",
       "      <td>Recency</td>\n",
       "      <td>XGBClassifier</td>\n",
       "      <td>0.00</td>\n",
       "      <td>0.331628</td>\n",
       "      <td>0</td>\n",
       "    </tr>\n",
       "    <tr>\n",
       "      <th>102</th>\n",
       "      <td>Recency</td>\n",
       "      <td>XGBClassifier</td>\n",
       "      <td>0.99</td>\n",
       "      <td>0.331628</td>\n",
       "      <td>0</td>\n",
       "    </tr>\n",
       "    <tr>\n",
       "      <th>103</th>\n",
       "      <td>Recency</td>\n",
       "      <td>XGBClassifier</td>\n",
       "      <td>1.98</td>\n",
       "      <td>0.331628</td>\n",
       "      <td>0</td>\n",
       "    </tr>\n",
       "    <tr>\n",
       "      <th>104</th>\n",
       "      <td>Recency</td>\n",
       "      <td>XGBClassifier</td>\n",
       "      <td>2.97</td>\n",
       "      <td>0.331628</td>\n",
       "      <td>0</td>\n",
       "    </tr>\n",
       "    <tr>\n",
       "      <th>105</th>\n",
       "      <td>Recency</td>\n",
       "      <td>XGBClassifier</td>\n",
       "      <td>3.96</td>\n",
       "      <td>0.331628</td>\n",
       "      <td>0</td>\n",
       "    </tr>\n",
       "    <tr>\n",
       "      <th>...</th>\n",
       "      <td>...</td>\n",
       "      <td>...</td>\n",
       "      <td>...</td>\n",
       "      <td>...</td>\n",
       "      <td>...</td>\n",
       "    </tr>\n",
       "    <tr>\n",
       "      <th>197</th>\n",
       "      <td>Recency</td>\n",
       "      <td>XGBClassifier</td>\n",
       "      <td>95.04</td>\n",
       "      <td>0.065664</td>\n",
       "      <td>0</td>\n",
       "    </tr>\n",
       "    <tr>\n",
       "      <th>198</th>\n",
       "      <td>Recency</td>\n",
       "      <td>XGBClassifier</td>\n",
       "      <td>96.03</td>\n",
       "      <td>0.065664</td>\n",
       "      <td>0</td>\n",
       "    </tr>\n",
       "    <tr>\n",
       "      <th>199</th>\n",
       "      <td>Recency</td>\n",
       "      <td>XGBClassifier</td>\n",
       "      <td>97.02</td>\n",
       "      <td>0.065664</td>\n",
       "      <td>0</td>\n",
       "    </tr>\n",
       "    <tr>\n",
       "      <th>200</th>\n",
       "      <td>Recency</td>\n",
       "      <td>XGBClassifier</td>\n",
       "      <td>98.01</td>\n",
       "      <td>0.065664</td>\n",
       "      <td>0</td>\n",
       "    </tr>\n",
       "    <tr>\n",
       "      <th>201</th>\n",
       "      <td>Recency</td>\n",
       "      <td>XGBClassifier</td>\n",
       "      <td>99.00</td>\n",
       "      <td>0.065664</td>\n",
       "      <td>0</td>\n",
       "    </tr>\n",
       "  </tbody>\n",
       "</table>\n",
       "<p>101 rows × 5 columns</p>\n",
       "</div>"
      ],
      "text/plain": [
       "     _vname_        _label_    _x_    _yhat_  _ids_\n",
       "101  Recency  XGBClassifier   0.00  0.331628      0\n",
       "102  Recency  XGBClassifier   0.99  0.331628      0\n",
       "103  Recency  XGBClassifier   1.98  0.331628      0\n",
       "104  Recency  XGBClassifier   2.97  0.331628      0\n",
       "105  Recency  XGBClassifier   3.96  0.331628      0\n",
       "..       ...            ...    ...       ...    ...\n",
       "197  Recency  XGBClassifier  95.04  0.065664      0\n",
       "198  Recency  XGBClassifier  96.03  0.065664      0\n",
       "199  Recency  XGBClassifier  97.02  0.065664      0\n",
       "200  Recency  XGBClassifier  98.01  0.065664      0\n",
       "201  Recency  XGBClassifier  99.00  0.065664      0\n",
       "\n",
       "[101 rows x 5 columns]"
      ]
     },
     "execution_count": 61,
     "metadata": {},
     "output_type": "execute_result"
    }
   ],
   "source": [
    "pd_rf[pd_rf[\"_vname_\"]==\"Recency\"]"
   ]
  },
  {
   "cell_type": "code",
   "execution_count": 62,
   "metadata": {},
   "outputs": [],
   "source": [
    "colors = ['blue' if val < max(pd_rf[\"_yhat_\"])-0.1*max(pd_rf[\"_yhat_\"]) else 'green' for val in pd_rf['_yhat_']]"
   ]
  },
  {
   "cell_type": "code",
   "execution_count": 63,
   "metadata": {},
   "outputs": [
    {
     "ename": "KeyError",
     "evalue": "'_x_'",
     "output_type": "error",
     "traceback": [
      "\u001b[1;31m---------------------------------------------------------------------------\u001b[0m",
      "\u001b[1;31mKeyError\u001b[0m                                  Traceback (most recent call last)",
      "File \u001b[1;32md:\\Programy\\miniconda3\\envs\\bhl9\\lib\\site-packages\\pandas\\core\\indexes\\base.py:3805\u001b[0m, in \u001b[0;36mIndex.get_loc\u001b[1;34m(self, key)\u001b[0m\n\u001b[0;32m   3804\u001b[0m \u001b[38;5;28;01mtry\u001b[39;00m:\n\u001b[1;32m-> 3805\u001b[0m     \u001b[38;5;28;01mreturn\u001b[39;00m \u001b[38;5;28;43mself\u001b[39;49m\u001b[38;5;241;43m.\u001b[39;49m\u001b[43m_engine\u001b[49m\u001b[38;5;241;43m.\u001b[39;49m\u001b[43mget_loc\u001b[49m\u001b[43m(\u001b[49m\u001b[43mcasted_key\u001b[49m\u001b[43m)\u001b[49m\n\u001b[0;32m   3806\u001b[0m \u001b[38;5;28;01mexcept\u001b[39;00m \u001b[38;5;167;01mKeyError\u001b[39;00m \u001b[38;5;28;01mas\u001b[39;00m err:\n",
      "File \u001b[1;32mindex.pyx:167\u001b[0m, in \u001b[0;36mpandas._libs.index.IndexEngine.get_loc\u001b[1;34m()\u001b[0m\n",
      "File \u001b[1;32mindex.pyx:196\u001b[0m, in \u001b[0;36mpandas._libs.index.IndexEngine.get_loc\u001b[1;34m()\u001b[0m\n",
      "File \u001b[1;32mpandas\\\\_libs\\\\hashtable_class_helper.pxi:7081\u001b[0m, in \u001b[0;36mpandas._libs.hashtable.PyObjectHashTable.get_item\u001b[1;34m()\u001b[0m\n",
      "File \u001b[1;32mpandas\\\\_libs\\\\hashtable_class_helper.pxi:7089\u001b[0m, in \u001b[0;36mpandas._libs.hashtable.PyObjectHashTable.get_item\u001b[1;34m()\u001b[0m\n",
      "\u001b[1;31mKeyError\u001b[0m: '_x_'",
      "\nThe above exception was the direct cause of the following exception:\n",
      "\u001b[1;31mKeyError\u001b[0m                                  Traceback (most recent call last)",
      "Cell \u001b[1;32mIn[63], line 5\u001b[0m\n\u001b[0;32m      1\u001b[0m fig \u001b[38;5;241m=\u001b[39m go\u001b[38;5;241m.\u001b[39mFigure()\n\u001b[0;32m      3\u001b[0m \u001b[38;5;28;01mfor\u001b[39;00m i \u001b[38;5;129;01min\u001b[39;00m \u001b[38;5;28mrange\u001b[39m(\u001b[38;5;28mlen\u001b[39m(df) \u001b[38;5;241m-\u001b[39m \u001b[38;5;241m1\u001b[39m):\n\u001b[0;32m      4\u001b[0m     fig\u001b[38;5;241m.\u001b[39madd_trace(go\u001b[38;5;241m.\u001b[39mScatter(\n\u001b[1;32m----> 5\u001b[0m         x\u001b[38;5;241m=\u001b[39m\u001b[43mdf\u001b[49m\u001b[43m[\u001b[49m\u001b[38;5;124;43m'\u001b[39;49m\u001b[38;5;124;43m_x_\u001b[39;49m\u001b[38;5;124;43m'\u001b[39;49m\u001b[43m]\u001b[49m\u001b[38;5;241m.\u001b[39miloc[i:i\u001b[38;5;241m+\u001b[39m\u001b[38;5;241m2\u001b[39m],\n\u001b[0;32m      6\u001b[0m         y\u001b[38;5;241m=\u001b[39mdf[\u001b[38;5;124m'\u001b[39m\u001b[38;5;124m_yhat_\u001b[39m\u001b[38;5;124m'\u001b[39m]\u001b[38;5;241m.\u001b[39miloc[i:i\u001b[38;5;241m+\u001b[39m\u001b[38;5;241m2\u001b[39m],\n\u001b[0;32m      7\u001b[0m         mode\u001b[38;5;241m=\u001b[39m\u001b[38;5;124m'\u001b[39m\u001b[38;5;124mlines\u001b[39m\u001b[38;5;124m'\u001b[39m,\n\u001b[0;32m      8\u001b[0m         line\u001b[38;5;241m=\u001b[39m\u001b[38;5;28mdict\u001b[39m(color\u001b[38;5;241m=\u001b[39mcolors[i]),\n\u001b[0;32m      9\u001b[0m         showlegend\u001b[38;5;241m=\u001b[39m\u001b[38;5;28;01mFalse\u001b[39;00m\n\u001b[0;32m     10\u001b[0m     ))\n\u001b[0;32m     12\u001b[0m fig\u001b[38;5;241m.\u001b[39mupdate_layout(\n\u001b[0;32m     13\u001b[0m     title\u001b[38;5;241m=\u001b[39m\u001b[38;5;124m'\u001b[39m\u001b[38;5;124mLine Plot\u001b[39m\u001b[38;5;124m'\u001b[39m,\n\u001b[0;32m     14\u001b[0m     xaxis\u001b[38;5;241m=\u001b[39m\u001b[38;5;28mdict\u001b[39m(title\u001b[38;5;241m=\u001b[39m\u001b[38;5;124m'\u001b[39m\u001b[38;5;124mWartość\u001b[39m\u001b[38;5;124m'\u001b[39m),\n\u001b[0;32m     15\u001b[0m     yaxis\u001b[38;5;241m=\u001b[39m\u001b[38;5;28mdict\u001b[39m(title\u001b[38;5;241m=\u001b[39m\u001b[38;5;124m'\u001b[39m\u001b[38;5;124mPrawdopodobieństwo\u001b[39m\u001b[38;5;124m'\u001b[39m)\n\u001b[0;32m     16\u001b[0m )\n",
      "File \u001b[1;32md:\\Programy\\miniconda3\\envs\\bhl9\\lib\\site-packages\\pandas\\core\\frame.py:4102\u001b[0m, in \u001b[0;36mDataFrame.__getitem__\u001b[1;34m(self, key)\u001b[0m\n\u001b[0;32m   4100\u001b[0m \u001b[38;5;28;01mif\u001b[39;00m \u001b[38;5;28mself\u001b[39m\u001b[38;5;241m.\u001b[39mcolumns\u001b[38;5;241m.\u001b[39mnlevels \u001b[38;5;241m>\u001b[39m \u001b[38;5;241m1\u001b[39m:\n\u001b[0;32m   4101\u001b[0m     \u001b[38;5;28;01mreturn\u001b[39;00m \u001b[38;5;28mself\u001b[39m\u001b[38;5;241m.\u001b[39m_getitem_multilevel(key)\n\u001b[1;32m-> 4102\u001b[0m indexer \u001b[38;5;241m=\u001b[39m \u001b[38;5;28;43mself\u001b[39;49m\u001b[38;5;241;43m.\u001b[39;49m\u001b[43mcolumns\u001b[49m\u001b[38;5;241;43m.\u001b[39;49m\u001b[43mget_loc\u001b[49m\u001b[43m(\u001b[49m\u001b[43mkey\u001b[49m\u001b[43m)\u001b[49m\n\u001b[0;32m   4103\u001b[0m \u001b[38;5;28;01mif\u001b[39;00m is_integer(indexer):\n\u001b[0;32m   4104\u001b[0m     indexer \u001b[38;5;241m=\u001b[39m [indexer]\n",
      "File \u001b[1;32md:\\Programy\\miniconda3\\envs\\bhl9\\lib\\site-packages\\pandas\\core\\indexes\\base.py:3812\u001b[0m, in \u001b[0;36mIndex.get_loc\u001b[1;34m(self, key)\u001b[0m\n\u001b[0;32m   3807\u001b[0m     \u001b[38;5;28;01mif\u001b[39;00m \u001b[38;5;28misinstance\u001b[39m(casted_key, \u001b[38;5;28mslice\u001b[39m) \u001b[38;5;129;01mor\u001b[39;00m (\n\u001b[0;32m   3808\u001b[0m         \u001b[38;5;28misinstance\u001b[39m(casted_key, abc\u001b[38;5;241m.\u001b[39mIterable)\n\u001b[0;32m   3809\u001b[0m         \u001b[38;5;129;01mand\u001b[39;00m \u001b[38;5;28many\u001b[39m(\u001b[38;5;28misinstance\u001b[39m(x, \u001b[38;5;28mslice\u001b[39m) \u001b[38;5;28;01mfor\u001b[39;00m x \u001b[38;5;129;01min\u001b[39;00m casted_key)\n\u001b[0;32m   3810\u001b[0m     ):\n\u001b[0;32m   3811\u001b[0m         \u001b[38;5;28;01mraise\u001b[39;00m InvalidIndexError(key)\n\u001b[1;32m-> 3812\u001b[0m     \u001b[38;5;28;01mraise\u001b[39;00m \u001b[38;5;167;01mKeyError\u001b[39;00m(key) \u001b[38;5;28;01mfrom\u001b[39;00m \u001b[38;5;21;01merr\u001b[39;00m\n\u001b[0;32m   3813\u001b[0m \u001b[38;5;28;01mexcept\u001b[39;00m \u001b[38;5;167;01mTypeError\u001b[39;00m:\n\u001b[0;32m   3814\u001b[0m     \u001b[38;5;66;03m# If we have a listlike key, _check_indexing_error will raise\u001b[39;00m\n\u001b[0;32m   3815\u001b[0m     \u001b[38;5;66;03m#  InvalidIndexError. Otherwise we fall through and re-raise\u001b[39;00m\n\u001b[0;32m   3816\u001b[0m     \u001b[38;5;66;03m#  the TypeError.\u001b[39;00m\n\u001b[0;32m   3817\u001b[0m     \u001b[38;5;28mself\u001b[39m\u001b[38;5;241m.\u001b[39m_check_indexing_error(key)\n",
      "\u001b[1;31mKeyError\u001b[0m: '_x_'"
     ]
    }
   ],
   "source": [
    "fig = go.Figure()\n",
    "\n",
    "for i in range(len(df) - 1):\n",
    "    fig.add_trace(go.Scatter(\n",
    "        x=df['_x_'].iloc[i:i+2],\n",
    "        y=df['_yhat_'].iloc[i:i+2],\n",
    "        mode='lines',\n",
    "        line=dict(color=colors[i]),\n",
    "        showlegend=False\n",
    "    ))\n",
    "\n",
    "fig.update_layout(\n",
    "    title='Line Plot',\n",
    "    xaxis=dict(title='Wartość'),\n",
    "    yaxis=dict(title='Prawdopodobieństwo')\n",
    ")"
   ]
  },
  {
   "cell_type": "code",
   "execution_count": 15,
   "metadata": {},
   "outputs": [
    {
     "data": {
      "application/vnd.plotly.v1+json": {
       "config": {
        "displaylogo": false,
        "modeBarButtonsToRemove": [
         "sendDataToCloud",
         "lasso2d",
         "autoScale2d",
         "select2d",
         "zoom2d",
         "pan2d",
         "zoomIn2d",
         "zoomOut2d",
         "resetScale2d",
         "toggleSpikelines",
         "hoverCompareCartesian",
         "hoverClosestCartesian"
        ],
        "plotlyServerURL": "https://plot.ly",
        "staticPlot": false,
        "toImageButtonOptions": {
         "height": null,
         "width": null
        }
       },
       "data": [
        {
         "alignmentgroup": "True",
         "base": [
          0.12343292453195984,
          0.12343292453195984,
          0.12343292453195984,
          0.12343292453195984,
          0.12343292453195984,
          0.12343292453195984,
          0.12343292453195984,
          0.12343292453195984,
          0.12343292453195984,
          0.12343292453195984,
          0.12343292453195984,
          0.12343292453195984,
          0.12343292453195984,
          0.12343292453195984,
          0.12343292453195984,
          0.12343292453195984,
          0.12343292453195984,
          0.12343292453195984,
          0.12343292453195984,
          0.12343292453195984,
          0.12343292453195984,
          0.12343292453195984,
          0.12343292453195984,
          0.12343292453195984,
          0.12343292453195984,
          0.12343292453195984,
          0.12343292453195984,
          0.12343292453195984,
          0.12343292453195984,
          0.12343292453195984,
          0.12343292453195984,
          0.12343292453195984,
          0.12343292453195984,
          0.12343292453195984,
          0.12343292453195984,
          0.12343292453195984,
          0.12343292453195984,
          0.12343292453195984,
          0.12343292453195984,
          0.12343292453195984,
          0.12343292453195984,
          0.12343292453195984,
          0.12343292453195984,
          0.12343292453195984,
          0.12343292453195984,
          0.12343292453195984,
          0.12343292453195984,
          0.12343292453195984,
          0.12343292453195984,
          0.12343292453195984,
          0.12343292453195984,
          0.12343292453195984,
          0.12343292453195984,
          0.12343292453195984,
          0.12343292453195984,
          0.12343292453195984,
          0.12343292453195984,
          0.12343292453195984,
          0.12343292453195984,
          0.12343292453195984,
          0.12343292453195984,
          0.12343292453195984,
          0.12343292453195984,
          0.12343292453195984,
          0.12343292453195984,
          0.12343292453195984,
          0.12343292453195984,
          0.12343292453195984,
          0.12343292453195984,
          0.12343292453195984,
          0.12343292453195984,
          0.12343292453195984,
          0.12343292453195984,
          0.12343292453195984,
          0.12343292453195984,
          0.12343292453195984,
          0.12343292453195984,
          0.12343292453195984,
          0.12343292453195984,
          0.12343292453195984,
          0.12343292453195984,
          0.12343292453195984,
          0.12343292453195984,
          0.12343292453195984,
          0.12343292453195984,
          0.12343292453195984,
          0.12343292453195984,
          0.12343292453195984,
          0.12343292453195984,
          0.12343292453195984,
          0.12343292453195984,
          0.12343292453195984,
          0.12343292453195984,
          0.12343292453195984,
          0.12343292453195984,
          0.12343292453195984,
          0.12343292453195984,
          0.12343292453195984,
          0.12343292453195984,
          0.12343292453195984,
          0.12343292453195984
         ],
         "customdata": [
          [
           0.11787550144791471,
           "RandomizedSearchCV",
           "acceptedcmp3"
          ],
          [
           0.11787550144791471,
           "RandomizedSearchCV",
           "acceptedcmp3"
          ],
          [
           0.11787550144791471,
           "RandomizedSearchCV",
           "acceptedcmp3"
          ],
          [
           0.11787550144791471,
           "RandomizedSearchCV",
           "acceptedcmp3"
          ],
          [
           0.11787550144791471,
           "RandomizedSearchCV",
           "acceptedcmp3"
          ],
          [
           0.11787550144791471,
           "RandomizedSearchCV",
           "acceptedcmp3"
          ],
          [
           0.11787550144791471,
           "RandomizedSearchCV",
           "acceptedcmp3"
          ],
          [
           0.11787550144791471,
           "RandomizedSearchCV",
           "acceptedcmp3"
          ],
          [
           0.11787550144791471,
           "RandomizedSearchCV",
           "acceptedcmp3"
          ],
          [
           0.11787550144791471,
           "RandomizedSearchCV",
           "acceptedcmp3"
          ],
          [
           0.11787550144791471,
           "RandomizedSearchCV",
           "acceptedcmp3"
          ],
          [
           0.11787550144791471,
           "RandomizedSearchCV",
           "acceptedcmp3"
          ],
          [
           0.11787550144791471,
           "RandomizedSearchCV",
           "acceptedcmp3"
          ],
          [
           0.11787550144791471,
           "RandomizedSearchCV",
           "acceptedcmp3"
          ],
          [
           0.11787550144791471,
           "RandomizedSearchCV",
           "acceptedcmp3"
          ],
          [
           0.11787550144791471,
           "RandomizedSearchCV",
           "acceptedcmp3"
          ],
          [
           0.11787550144791471,
           "RandomizedSearchCV",
           "acceptedcmp3"
          ],
          [
           0.11787550144791471,
           "RandomizedSearchCV",
           "acceptedcmp3"
          ],
          [
           0.11787550144791471,
           "RandomizedSearchCV",
           "acceptedcmp3"
          ],
          [
           0.11787550144791471,
           "RandomizedSearchCV",
           "acceptedcmp3"
          ],
          [
           0.11787550144791471,
           "RandomizedSearchCV",
           "acceptedcmp3"
          ],
          [
           0.11787550144791471,
           "RandomizedSearchCV",
           "acceptedcmp3"
          ],
          [
           0.11787550144791471,
           "RandomizedSearchCV",
           "acceptedcmp3"
          ],
          [
           0.11787550144791471,
           "RandomizedSearchCV",
           "acceptedcmp3"
          ],
          [
           0.11787550144791471,
           "RandomizedSearchCV",
           "acceptedcmp3"
          ],
          [
           0.11787550144791471,
           "RandomizedSearchCV",
           "acceptedcmp3"
          ],
          [
           0.11787550144791471,
           "RandomizedSearchCV",
           "acceptedcmp3"
          ],
          [
           0.11787550144791471,
           "RandomizedSearchCV",
           "acceptedcmp3"
          ],
          [
           0.11787550144791471,
           "RandomizedSearchCV",
           "acceptedcmp3"
          ],
          [
           0.11787550144791471,
           "RandomizedSearchCV",
           "acceptedcmp3"
          ],
          [
           0.11787550144791471,
           "RandomizedSearchCV",
           "acceptedcmp3"
          ],
          [
           0.11787550144791471,
           "RandomizedSearchCV",
           "acceptedcmp3"
          ],
          [
           0.11787550144791471,
           "RandomizedSearchCV",
           "acceptedcmp3"
          ],
          [
           0.11787550144791471,
           "RandomizedSearchCV",
           "acceptedcmp3"
          ],
          [
           0.11787550144791471,
           "RandomizedSearchCV",
           "acceptedcmp3"
          ],
          [
           0.11787550144791471,
           "RandomizedSearchCV",
           "acceptedcmp3"
          ],
          [
           0.11787550144791471,
           "RandomizedSearchCV",
           "acceptedcmp3"
          ],
          [
           0.11787550144791471,
           "RandomizedSearchCV",
           "acceptedcmp3"
          ],
          [
           0.11787550144791471,
           "RandomizedSearchCV",
           "acceptedcmp3"
          ],
          [
           0.11787550144791471,
           "RandomizedSearchCV",
           "acceptedcmp3"
          ],
          [
           0.11787550144791471,
           "RandomizedSearchCV",
           "acceptedcmp3"
          ],
          [
           0.11787550144791471,
           "RandomizedSearchCV",
           "acceptedcmp3"
          ],
          [
           0.11787550144791471,
           "RandomizedSearchCV",
           "acceptedcmp3"
          ],
          [
           0.11787550144791471,
           "RandomizedSearchCV",
           "acceptedcmp3"
          ],
          [
           0.11787550144791471,
           "RandomizedSearchCV",
           "acceptedcmp3"
          ],
          [
           0.11787550144791471,
           "RandomizedSearchCV",
           "acceptedcmp3"
          ],
          [
           0.11787550144791471,
           "RandomizedSearchCV",
           "acceptedcmp3"
          ],
          [
           0.11787550144791471,
           "RandomizedSearchCV",
           "acceptedcmp3"
          ],
          [
           0.11787550144791471,
           "RandomizedSearchCV",
           "acceptedcmp3"
          ],
          [
           0.11787550144791471,
           "RandomizedSearchCV",
           "acceptedcmp3"
          ],
          [
           0.11787550144791471,
           "RandomizedSearchCV",
           "acceptedcmp3"
          ],
          [
           0.2570798634161489,
           "RandomizedSearchCV",
           "acceptedcmp3"
          ],
          [
           0.2570798634161489,
           "RandomizedSearchCV",
           "acceptedcmp3"
          ],
          [
           0.2570798634161489,
           "RandomizedSearchCV",
           "acceptedcmp3"
          ],
          [
           0.2570798634161489,
           "RandomizedSearchCV",
           "acceptedcmp3"
          ],
          [
           0.2570798634161489,
           "RandomizedSearchCV",
           "acceptedcmp3"
          ],
          [
           0.2570798634161489,
           "RandomizedSearchCV",
           "acceptedcmp3"
          ],
          [
           0.2570798634161489,
           "RandomizedSearchCV",
           "acceptedcmp3"
          ],
          [
           0.2570798634161489,
           "RandomizedSearchCV",
           "acceptedcmp3"
          ],
          [
           0.2570798634161489,
           "RandomizedSearchCV",
           "acceptedcmp3"
          ],
          [
           0.2570798634161489,
           "RandomizedSearchCV",
           "acceptedcmp3"
          ],
          [
           0.2570798634161489,
           "RandomizedSearchCV",
           "acceptedcmp3"
          ],
          [
           0.2570798634161489,
           "RandomizedSearchCV",
           "acceptedcmp3"
          ],
          [
           0.2570798634161489,
           "RandomizedSearchCV",
           "acceptedcmp3"
          ],
          [
           0.2570798634161489,
           "RandomizedSearchCV",
           "acceptedcmp3"
          ],
          [
           0.2570798634161489,
           "RandomizedSearchCV",
           "acceptedcmp3"
          ],
          [
           0.2570798634161489,
           "RandomizedSearchCV",
           "acceptedcmp3"
          ],
          [
           0.2570798634161489,
           "RandomizedSearchCV",
           "acceptedcmp3"
          ],
          [
           0.2570798634161489,
           "RandomizedSearchCV",
           "acceptedcmp3"
          ],
          [
           0.2570798634161489,
           "RandomizedSearchCV",
           "acceptedcmp3"
          ],
          [
           0.2570798634161489,
           "RandomizedSearchCV",
           "acceptedcmp3"
          ],
          [
           0.2570798634161489,
           "RandomizedSearchCV",
           "acceptedcmp3"
          ],
          [
           0.2570798634161489,
           "RandomizedSearchCV",
           "acceptedcmp3"
          ],
          [
           0.2570798634161489,
           "RandomizedSearchCV",
           "acceptedcmp3"
          ],
          [
           0.2570798634161489,
           "RandomizedSearchCV",
           "acceptedcmp3"
          ],
          [
           0.2570798634161489,
           "RandomizedSearchCV",
           "acceptedcmp3"
          ],
          [
           0.2570798634161489,
           "RandomizedSearchCV",
           "acceptedcmp3"
          ],
          [
           0.2570798634161489,
           "RandomizedSearchCV",
           "acceptedcmp3"
          ],
          [
           0.2570798634161489,
           "RandomizedSearchCV",
           "acceptedcmp3"
          ],
          [
           0.2570798634161489,
           "RandomizedSearchCV",
           "acceptedcmp3"
          ],
          [
           0.2570798634161489,
           "RandomizedSearchCV",
           "acceptedcmp3"
          ],
          [
           0.2570798634161489,
           "RandomizedSearchCV",
           "acceptedcmp3"
          ],
          [
           0.2570798634161489,
           "RandomizedSearchCV",
           "acceptedcmp3"
          ],
          [
           0.2570798634161489,
           "RandomizedSearchCV",
           "acceptedcmp3"
          ],
          [
           0.2570798634161489,
           "RandomizedSearchCV",
           "acceptedcmp3"
          ],
          [
           0.2570798634161489,
           "RandomizedSearchCV",
           "acceptedcmp3"
          ],
          [
           0.2570798634161489,
           "RandomizedSearchCV",
           "acceptedcmp3"
          ],
          [
           0.2570798634161489,
           "RandomizedSearchCV",
           "acceptedcmp3"
          ],
          [
           0.2570798634161489,
           "RandomizedSearchCV",
           "acceptedcmp3"
          ],
          [
           0.2570798634161489,
           "RandomizedSearchCV",
           "acceptedcmp3"
          ],
          [
           0.2570798634161489,
           "RandomizedSearchCV",
           "acceptedcmp3"
          ],
          [
           0.2570798634161489,
           "RandomizedSearchCV",
           "acceptedcmp3"
          ],
          [
           0.2570798634161489,
           "RandomizedSearchCV",
           "acceptedcmp3"
          ],
          [
           0.2570798634161489,
           "RandomizedSearchCV",
           "acceptedcmp3"
          ],
          [
           0.2570798634161489,
           "RandomizedSearchCV",
           "acceptedcmp3"
          ],
          [
           0.2570798634161489,
           "RandomizedSearchCV",
           "acceptedcmp3"
          ],
          [
           0.2570798634161489,
           "RandomizedSearchCV",
           "acceptedcmp3"
          ],
          [
           0.2570798634161489,
           "RandomizedSearchCV",
           "acceptedcmp3"
          ],
          [
           0.2570798634161489,
           "RandomizedSearchCV",
           "acceptedcmp3"
          ],
          [
           0.2570798634161489,
           "RandomizedSearchCV",
           "acceptedcmp3"
          ],
          [
           0.2570798634161489,
           "RandomizedSearchCV",
           "acceptedcmp3"
          ]
         ],
         "hovertemplate": "<b>%{hovertext}</b><br><br>mean_prediction=%{base:.3f}<br>prediction=%{customdata[0]:.3f}<extra></extra>",
         "hovertext": [
          "RandomizedSearchCV",
          "RandomizedSearchCV",
          "RandomizedSearchCV",
          "RandomizedSearchCV",
          "RandomizedSearchCV",
          "RandomizedSearchCV",
          "RandomizedSearchCV",
          "RandomizedSearchCV",
          "RandomizedSearchCV",
          "RandomizedSearchCV",
          "RandomizedSearchCV",
          "RandomizedSearchCV",
          "RandomizedSearchCV",
          "RandomizedSearchCV",
          "RandomizedSearchCV",
          "RandomizedSearchCV",
          "RandomizedSearchCV",
          "RandomizedSearchCV",
          "RandomizedSearchCV",
          "RandomizedSearchCV",
          "RandomizedSearchCV",
          "RandomizedSearchCV",
          "RandomizedSearchCV",
          "RandomizedSearchCV",
          "RandomizedSearchCV",
          "RandomizedSearchCV",
          "RandomizedSearchCV",
          "RandomizedSearchCV",
          "RandomizedSearchCV",
          "RandomizedSearchCV",
          "RandomizedSearchCV",
          "RandomizedSearchCV",
          "RandomizedSearchCV",
          "RandomizedSearchCV",
          "RandomizedSearchCV",
          "RandomizedSearchCV",
          "RandomizedSearchCV",
          "RandomizedSearchCV",
          "RandomizedSearchCV",
          "RandomizedSearchCV",
          "RandomizedSearchCV",
          "RandomizedSearchCV",
          "RandomizedSearchCV",
          "RandomizedSearchCV",
          "RandomizedSearchCV",
          "RandomizedSearchCV",
          "RandomizedSearchCV",
          "RandomizedSearchCV",
          "RandomizedSearchCV",
          "RandomizedSearchCV",
          "RandomizedSearchCV",
          "RandomizedSearchCV",
          "RandomizedSearchCV",
          "RandomizedSearchCV",
          "RandomizedSearchCV",
          "RandomizedSearchCV",
          "RandomizedSearchCV",
          "RandomizedSearchCV",
          "RandomizedSearchCV",
          "RandomizedSearchCV",
          "RandomizedSearchCV",
          "RandomizedSearchCV",
          "RandomizedSearchCV",
          "RandomizedSearchCV",
          "RandomizedSearchCV",
          "RandomizedSearchCV",
          "RandomizedSearchCV",
          "RandomizedSearchCV",
          "RandomizedSearchCV",
          "RandomizedSearchCV",
          "RandomizedSearchCV",
          "RandomizedSearchCV",
          "RandomizedSearchCV",
          "RandomizedSearchCV",
          "RandomizedSearchCV",
          "RandomizedSearchCV",
          "RandomizedSearchCV",
          "RandomizedSearchCV",
          "RandomizedSearchCV",
          "RandomizedSearchCV",
          "RandomizedSearchCV",
          "RandomizedSearchCV",
          "RandomizedSearchCV",
          "RandomizedSearchCV",
          "RandomizedSearchCV",
          "RandomizedSearchCV",
          "RandomizedSearchCV",
          "RandomizedSearchCV",
          "RandomizedSearchCV",
          "RandomizedSearchCV",
          "RandomizedSearchCV",
          "RandomizedSearchCV",
          "RandomizedSearchCV",
          "RandomizedSearchCV",
          "RandomizedSearchCV",
          "RandomizedSearchCV",
          "RandomizedSearchCV",
          "RandomizedSearchCV",
          "RandomizedSearchCV",
          "RandomizedSearchCV",
          "RandomizedSearchCV"
         ],
         "legendgroup": "RandomizedSearchCV",
         "marker": {
          "color": "#46bac2",
          "pattern": {
           "shape": ""
          }
         },
         "name": "RandomizedSearchCV",
         "offsetgroup": "RandomizedSearchCV",
         "orientation": "v",
         "showlegend": true,
         "textposition": "auto",
         "type": "bar",
         "x": [
          "0.0",
          "0.01",
          "0.02",
          "0.03",
          "0.04",
          "0.05",
          "0.06",
          "0.07",
          "0.08",
          "0.09",
          "0.1",
          "0.11",
          "0.12",
          "0.13",
          "0.14",
          "0.15",
          "0.16",
          "0.17",
          "0.18",
          "0.19",
          "0.2",
          "0.21",
          "0.22",
          "0.23",
          "0.24",
          "0.25",
          "0.26",
          "0.27",
          "0.28",
          "0.29",
          "0.3",
          "0.31",
          "0.32",
          "0.33",
          "0.34",
          "0.35000000000000003",
          "0.36",
          "0.37",
          "0.38",
          "0.39",
          "0.4",
          "0.41000000000000003",
          "0.42",
          "0.43",
          "0.44",
          "0.45",
          "0.46",
          "0.47000000000000003",
          "0.48",
          "0.49",
          "0.5",
          "0.51",
          "0.52",
          "0.53",
          "0.54",
          "0.55",
          "0.56",
          "0.5700000000000001",
          "0.58",
          "0.59",
          "0.6",
          "0.61",
          "0.62",
          "0.63",
          "0.64",
          "0.65",
          "0.66",
          "0.67",
          "0.68",
          "0.6900000000000001",
          "0.7000000000000001",
          "0.71",
          "0.72",
          "0.73",
          "0.74",
          "0.75",
          "0.76",
          "0.77",
          "0.78",
          "0.79",
          "0.8",
          "0.81",
          "0.8200000000000001",
          "0.8300000000000001",
          "0.84",
          "0.85",
          "0.86",
          "0.87",
          "0.88",
          "0.89",
          "0.9",
          "0.91",
          "0.92",
          "0.93",
          "0.9400000000000001",
          "0.9500000000000001",
          "0.96",
          "0.97",
          "0.98",
          "0.99",
          "1.0"
         ],
         "xaxis": "x",
         "y": [
          -0.005557423084045124,
          -0.005557423084045124,
          -0.005557423084045124,
          -0.005557423084045124,
          -0.005557423084045124,
          -0.005557423084045124,
          -0.005557423084045124,
          -0.005557423084045124,
          -0.005557423084045124,
          -0.005557423084045124,
          -0.005557423084045124,
          -0.005557423084045124,
          -0.005557423084045124,
          -0.005557423084045124,
          -0.005557423084045124,
          -0.005557423084045124,
          -0.005557423084045124,
          -0.005557423084045124,
          -0.005557423084045124,
          -0.005557423084045124,
          -0.005557423084045124,
          -0.005557423084045124,
          -0.005557423084045124,
          -0.005557423084045124,
          -0.005557423084045124,
          -0.005557423084045124,
          -0.005557423084045124,
          -0.005557423084045124,
          -0.005557423084045124,
          -0.005557423084045124,
          -0.005557423084045124,
          -0.005557423084045124,
          -0.005557423084045124,
          -0.005557423084045124,
          -0.005557423084045124,
          -0.005557423084045124,
          -0.005557423084045124,
          -0.005557423084045124,
          -0.005557423084045124,
          -0.005557423084045124,
          -0.005557423084045124,
          -0.005557423084045124,
          -0.005557423084045124,
          -0.005557423084045124,
          -0.005557423084045124,
          -0.005557423084045124,
          -0.005557423084045124,
          -0.005557423084045124,
          -0.005557423084045124,
          -0.005557423084045124,
          -0.005557423084045124,
          0.13364693888418908,
          0.13364693888418908,
          0.13364693888418908,
          0.13364693888418908,
          0.13364693888418908,
          0.13364693888418908,
          0.13364693888418908,
          0.13364693888418908,
          0.13364693888418908,
          0.13364693888418908,
          0.13364693888418908,
          0.13364693888418908,
          0.13364693888418908,
          0.13364693888418908,
          0.13364693888418908,
          0.13364693888418908,
          0.13364693888418908,
          0.13364693888418908,
          0.13364693888418908,
          0.13364693888418908,
          0.13364693888418908,
          0.13364693888418908,
          0.13364693888418908,
          0.13364693888418908,
          0.13364693888418908,
          0.13364693888418908,
          0.13364693888418908,
          0.13364693888418908,
          0.13364693888418908,
          0.13364693888418908,
          0.13364693888418908,
          0.13364693888418908,
          0.13364693888418908,
          0.13364693888418908,
          0.13364693888418908,
          0.13364693888418908,
          0.13364693888418908,
          0.13364693888418908,
          0.13364693888418908,
          0.13364693888418908,
          0.13364693888418908,
          0.13364693888418908,
          0.13364693888418908,
          0.13364693888418908,
          0.13364693888418908,
          0.13364693888418908,
          0.13364693888418908,
          0.13364693888418908,
          0.13364693888418908,
          0.13364693888418908
         ],
         "yaxis": "y"
        }
       ],
       "layout": {
        "annotations": [
         {
          "font": {
           "size": 13
          },
          "showarrow": false,
          "text": "acceptedcmp3",
          "x": 0.5,
          "xanchor": "center",
          "xref": "paper",
          "y": 1,
          "yanchor": "bottom",
          "yref": "paper"
         },
         {
          "font": {
           "size": 13
          },
          "showarrow": false,
          "text": "prediction",
          "textangle": -90,
          "x": -0.07,
          "xref": "paper",
          "y": 0.5,
          "yref": "paper"
         }
        ],
        "barmode": "group",
        "font": {
         "color": "#371ea3"
        },
        "height": 489,
        "hovermode": "x unified",
        "legend": {
         "font": {
          "size": 11
         },
         "itemsizing": "constant",
         "orientation": "h",
         "title": {
          "font": {
           "size": 12
          },
          "text": "label"
         },
         "tracegroupgap": 0,
         "x": 1,
         "xanchor": "right",
         "y": 1.0613496932515338,
         "yanchor": "bottom"
        },
        "margin": {
         "b": 71,
         "r": 30,
         "t": 78
        },
        "shapes": [
         {
          "layer": "below",
          "line": {
           "color": "#371ea3",
           "dash": "dot",
           "width": 1.5
          },
          "type": "line",
          "x0": 0,
          "x1": 1,
          "xref": "x domain",
          "y0": 0.12343292453195984,
          "y1": 0.12343292453195984,
          "yref": "y"
         }
        ],
        "template": {
         "data": {
          "scatter": [
           {
            "type": "scatter"
           }
          ]
         }
        },
        "title": {
         "font": {
          "size": 16
         },
         "text": "Aggregated Profiles",
         "x": 0.15
        },
        "xaxis": {
         "anchor": "y",
         "automargin": true,
         "domain": [
          0,
          1
         ],
         "fixedrange": true,
         "gridwidth": 2,
         "showticklabels": true,
         "tickcolor": "white",
         "ticklen": 10,
         "ticks": "outside",
         "title": {
          "text": ""
         },
         "type": "category"
        },
        "yaxis": {
         "anchor": "x",
         "automargin": true,
         "domain": [
          0,
          1
         ],
         "fixedrange": true,
         "gridwidth": 2,
         "range": [
          0.10395506525109129,
          0.27100029961297234
         ],
         "tickcolor": "white",
         "ticklen": 3,
         "ticks": "outside",
         "title": {
          "text": ""
         },
         "type": "linear",
         "zeroline": false
        }
       }
      }
     },
     "metadata": {},
     "output_type": "display_data"
    }
   ],
   "source": [
    "pd_rf.plot()"
   ]
  }
 ],
 "metadata": {
  "kernelspec": {
   "display_name": "bhl9",
   "language": "python",
   "name": "python3"
  },
  "language_info": {
   "codemirror_mode": {
    "name": "ipython",
    "version": 3
   },
   "file_extension": ".py",
   "mimetype": "text/x-python",
   "name": "python",
   "nbconvert_exporter": "python",
   "pygments_lexer": "ipython3",
   "version": "3.10.14"
  }
 },
 "nbformat": 4,
 "nbformat_minor": 2
}
