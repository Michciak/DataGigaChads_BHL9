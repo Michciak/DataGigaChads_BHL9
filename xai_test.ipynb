{
 "cells": [
  {
   "cell_type": "code",
   "execution_count": 35,
   "metadata": {},
   "outputs": [],
   "source": [
    "import dalex as dx\n",
    "import pickle as pkl\n",
    "import data_prep\n",
    "import pandas as pd\n",
    "import plotly.graph_objects as go"
   ]
  },
  {
   "cell_type": "code",
   "execution_count": 28,
   "metadata": {},
   "outputs": [],
   "source": [
    "rf = pkl.load(open(\"models/rf1.pkl\", 'rb'))"
   ]
  },
  {
   "cell_type": "code",
   "execution_count": 29,
   "metadata": {},
   "outputs": [],
   "source": [
    "df = pd.read_csv(\"marketing_campaign.csv\", sep=\";\")\n",
    "\n",
    "x_train, y_train, x_test, y_test = data_prep.prep_data(df)"
   ]
  },
  {
   "cell_type": "code",
   "execution_count": 30,
   "metadata": {},
   "outputs": [
    {
     "name": "stdout",
     "output_type": "stream",
     "text": [
      "Preparation of a new explainer is initiated\n",
      "\n",
      "  -> data              : 1783 rows 31 cols\n",
      "  -> target variable   : Parameter 'y' was a pandas.Series. Converted to a numpy.ndarray.\n",
      "  -> target variable   : 1783 values\n",
      "  -> model_class       : sklearn.model_selection._search.RandomizedSearchCV (default)\n",
      "  -> label             : Not specified, model's class short name will be used. (default)\n",
      "  -> predict function  : <function yhat_proba_default at 0x000001C4C1DC9D80> will be used (default)\n",
      "  -> predict function  : Accepts pandas.DataFrame and numpy.ndarray.\n",
      "  -> predicted values  : min = 6.94e-05, mean = 0.139, max = 0.913\n",
      "  -> model type        : classification will be used\n",
      "  -> residual function : difference between y and yhat (default)\n",
      "  -> residuals         : min = -0.502, mean = 3.95e-17, max = 0.713\n",
      "  -> model_info        : package sklearn\n",
      "\n",
      "A new explainer has been created!\n"
     ]
    }
   ],
   "source": [
    "exp = dx.Explainer(rf, x_train, y_train, model_type=\"classification\")"
   ]
  },
  {
   "cell_type": "code",
   "execution_count": 31,
   "metadata": {},
   "outputs": [
    {
     "data": {
      "text/html": [
       "<div>\n",
       "<style scoped>\n",
       "    .dataframe tbody tr th:only-of-type {\n",
       "        vertical-align: middle;\n",
       "    }\n",
       "\n",
       "    .dataframe tbody tr th {\n",
       "        vertical-align: top;\n",
       "    }\n",
       "\n",
       "    .dataframe thead th {\n",
       "        text-align: right;\n",
       "    }\n",
       "</style>\n",
       "<table border=\"1\" class=\"dataframe\">\n",
       "  <thead>\n",
       "    <tr style=\"text-align: right;\">\n",
       "      <th></th>\n",
       "      <th>recall</th>\n",
       "      <th>precision</th>\n",
       "      <th>f1</th>\n",
       "      <th>accuracy</th>\n",
       "      <th>auc</th>\n",
       "    </tr>\n",
       "  </thead>\n",
       "  <tbody>\n",
       "    <tr>\n",
       "      <th>RandomizedSearchCV</th>\n",
       "      <td>0.875</td>\n",
       "      <td>0.995413</td>\n",
       "      <td>0.93133</td>\n",
       "      <td>0.982053</td>\n",
       "      <td>0.999572</td>\n",
       "    </tr>\n",
       "  </tbody>\n",
       "</table>\n",
       "</div>"
      ],
      "text/plain": [
       "<dalex.model_explanations._model_performance.object.ModelPerformance at 0x1c4db8bfe80>"
      ]
     },
     "execution_count": 31,
     "metadata": {},
     "output_type": "execute_result"
    }
   ],
   "source": [
    "exp.model_performance()"
   ]
  },
  {
   "cell_type": "code",
   "execution_count": 32,
   "metadata": {},
   "outputs": [],
   "source": [
    "mp = exp.model_parts()"
   ]
  },
  {
   "cell_type": "code",
   "execution_count": 33,
   "metadata": {},
   "outputs": [
    {
     "data": {
      "text/html": [
       "<div>\n",
       "<style scoped>\n",
       "    .dataframe tbody tr th:only-of-type {\n",
       "        vertical-align: middle;\n",
       "    }\n",
       "\n",
       "    .dataframe tbody tr th {\n",
       "        vertical-align: top;\n",
       "    }\n",
       "\n",
       "    .dataframe thead th {\n",
       "        text-align: right;\n",
       "    }\n",
       "</style>\n",
       "<table border=\"1\" class=\"dataframe\">\n",
       "  <thead>\n",
       "    <tr style=\"text-align: right;\">\n",
       "      <th></th>\n",
       "      <th>variable</th>\n",
       "      <th>dropout_loss</th>\n",
       "      <th>label</th>\n",
       "    </tr>\n",
       "  </thead>\n",
       "  <tbody>\n",
       "    <tr>\n",
       "      <th>1</th>\n",
       "      <td>complain</td>\n",
       "      <td>0.000417</td>\n",
       "      <td>RandomizedSearchCV</td>\n",
       "    </tr>\n",
       "    <tr>\n",
       "      <th>2</th>\n",
       "      <td>education_Basic</td>\n",
       "      <td>0.000419</td>\n",
       "      <td>RandomizedSearchCV</td>\n",
       "    </tr>\n",
       "    <tr>\n",
       "      <th>3</th>\n",
       "      <td>marital_status_Widow</td>\n",
       "      <td>0.000444</td>\n",
       "      <td>RandomizedSearchCV</td>\n",
       "    </tr>\n",
       "    <tr>\n",
       "      <th>4</th>\n",
       "      <td>education_Master</td>\n",
       "      <td>0.000479</td>\n",
       "      <td>RandomizedSearchCV</td>\n",
       "    </tr>\n",
       "    <tr>\n",
       "      <th>5</th>\n",
       "      <td>acceptedcmp2</td>\n",
       "      <td>0.000491</td>\n",
       "      <td>RandomizedSearchCV</td>\n",
       "    </tr>\n",
       "    <tr>\n",
       "      <th>6</th>\n",
       "      <td>education_Graduation</td>\n",
       "      <td>0.000528</td>\n",
       "      <td>RandomizedSearchCV</td>\n",
       "    </tr>\n",
       "    <tr>\n",
       "      <th>7</th>\n",
       "      <td>marital_status_Together</td>\n",
       "      <td>0.000531</td>\n",
       "      <td>RandomizedSearchCV</td>\n",
       "    </tr>\n",
       "    <tr>\n",
       "      <th>8</th>\n",
       "      <td>kidhome</td>\n",
       "      <td>0.000566</td>\n",
       "      <td>RandomizedSearchCV</td>\n",
       "    </tr>\n",
       "    <tr>\n",
       "      <th>9</th>\n",
       "      <td>acceptedcmp4</td>\n",
       "      <td>0.000660</td>\n",
       "      <td>RandomizedSearchCV</td>\n",
       "    </tr>\n",
       "    <tr>\n",
       "      <th>10</th>\n",
       "      <td>acceptedcmp1</td>\n",
       "      <td>0.000666</td>\n",
       "      <td>RandomizedSearchCV</td>\n",
       "    </tr>\n",
       "    <tr>\n",
       "      <th>11</th>\n",
       "      <td>teenhome</td>\n",
       "      <td>0.000689</td>\n",
       "      <td>RandomizedSearchCV</td>\n",
       "    </tr>\n",
       "    <tr>\n",
       "      <th>12</th>\n",
       "      <td>marital_status_Married</td>\n",
       "      <td>0.000832</td>\n",
       "      <td>RandomizedSearchCV</td>\n",
       "    </tr>\n",
       "    <tr>\n",
       "      <th>13</th>\n",
       "      <td>numdealspurchases</td>\n",
       "      <td>0.000836</td>\n",
       "      <td>RandomizedSearchCV</td>\n",
       "    </tr>\n",
       "    <tr>\n",
       "      <th>14</th>\n",
       "      <td>education_PhD</td>\n",
       "      <td>0.000848</td>\n",
       "      <td>RandomizedSearchCV</td>\n",
       "    </tr>\n",
       "    <tr>\n",
       "      <th>15</th>\n",
       "      <td>numwebpurchases</td>\n",
       "      <td>0.000891</td>\n",
       "      <td>RandomizedSearchCV</td>\n",
       "    </tr>\n",
       "    <tr>\n",
       "      <th>16</th>\n",
       "      <td>mntfruits</td>\n",
       "      <td>0.000943</td>\n",
       "      <td>RandomizedSearchCV</td>\n",
       "    </tr>\n",
       "    <tr>\n",
       "      <th>17</th>\n",
       "      <td>year_birth</td>\n",
       "      <td>0.000950</td>\n",
       "      <td>RandomizedSearchCV</td>\n",
       "    </tr>\n",
       "    <tr>\n",
       "      <th>18</th>\n",
       "      <td>mntfishproducts</td>\n",
       "      <td>0.001041</td>\n",
       "      <td>RandomizedSearchCV</td>\n",
       "    </tr>\n",
       "    <tr>\n",
       "      <th>19</th>\n",
       "      <td>marital_status_Single</td>\n",
       "      <td>0.001115</td>\n",
       "      <td>RandomizedSearchCV</td>\n",
       "    </tr>\n",
       "    <tr>\n",
       "      <th>20</th>\n",
       "      <td>mntgoldprods</td>\n",
       "      <td>0.001213</td>\n",
       "      <td>RandomizedSearchCV</td>\n",
       "    </tr>\n",
       "    <tr>\n",
       "      <th>21</th>\n",
       "      <td>numcatalogpurchases</td>\n",
       "      <td>0.001474</td>\n",
       "      <td>RandomizedSearchCV</td>\n",
       "    </tr>\n",
       "    <tr>\n",
       "      <th>22</th>\n",
       "      <td>acceptedcmp5</td>\n",
       "      <td>0.001504</td>\n",
       "      <td>RandomizedSearchCV</td>\n",
       "    </tr>\n",
       "    <tr>\n",
       "      <th>23</th>\n",
       "      <td>income</td>\n",
       "      <td>0.001668</td>\n",
       "      <td>RandomizedSearchCV</td>\n",
       "    </tr>\n",
       "    <tr>\n",
       "      <th>24</th>\n",
       "      <td>numwebvisitsmonth</td>\n",
       "      <td>0.001858</td>\n",
       "      <td>RandomizedSearchCV</td>\n",
       "    </tr>\n",
       "    <tr>\n",
       "      <th>25</th>\n",
       "      <td>mntsweetproducts</td>\n",
       "      <td>0.001909</td>\n",
       "      <td>RandomizedSearchCV</td>\n",
       "    </tr>\n",
       "    <tr>\n",
       "      <th>26</th>\n",
       "      <td>numstorepurchases</td>\n",
       "      <td>0.001969</td>\n",
       "      <td>RandomizedSearchCV</td>\n",
       "    </tr>\n",
       "    <tr>\n",
       "      <th>27</th>\n",
       "      <td>mntwines</td>\n",
       "      <td>0.002362</td>\n",
       "      <td>RandomizedSearchCV</td>\n",
       "    </tr>\n",
       "    <tr>\n",
       "      <th>28</th>\n",
       "      <td>mntmeatproducts</td>\n",
       "      <td>0.003734</td>\n",
       "      <td>RandomizedSearchCV</td>\n",
       "    </tr>\n",
       "    <tr>\n",
       "      <th>29</th>\n",
       "      <td>acceptedcmp3</td>\n",
       "      <td>0.005384</td>\n",
       "      <td>RandomizedSearchCV</td>\n",
       "    </tr>\n",
       "    <tr>\n",
       "      <th>30</th>\n",
       "      <td>dt_customer</td>\n",
       "      <td>0.007891</td>\n",
       "      <td>RandomizedSearchCV</td>\n",
       "    </tr>\n",
       "    <tr>\n",
       "      <th>31</th>\n",
       "      <td>recency</td>\n",
       "      <td>0.027063</td>\n",
       "      <td>RandomizedSearchCV</td>\n",
       "    </tr>\n",
       "  </tbody>\n",
       "</table>\n",
       "</div>"
      ],
      "text/plain": [
       "                   variable  dropout_loss               label\n",
       "1                  complain      0.000417  RandomizedSearchCV\n",
       "2           education_Basic      0.000419  RandomizedSearchCV\n",
       "3      marital_status_Widow      0.000444  RandomizedSearchCV\n",
       "4          education_Master      0.000479  RandomizedSearchCV\n",
       "5              acceptedcmp2      0.000491  RandomizedSearchCV\n",
       "6      education_Graduation      0.000528  RandomizedSearchCV\n",
       "7   marital_status_Together      0.000531  RandomizedSearchCV\n",
       "8                   kidhome      0.000566  RandomizedSearchCV\n",
       "9              acceptedcmp4      0.000660  RandomizedSearchCV\n",
       "10             acceptedcmp1      0.000666  RandomizedSearchCV\n",
       "11                 teenhome      0.000689  RandomizedSearchCV\n",
       "12   marital_status_Married      0.000832  RandomizedSearchCV\n",
       "13        numdealspurchases      0.000836  RandomizedSearchCV\n",
       "14            education_PhD      0.000848  RandomizedSearchCV\n",
       "15          numwebpurchases      0.000891  RandomizedSearchCV\n",
       "16                mntfruits      0.000943  RandomizedSearchCV\n",
       "17               year_birth      0.000950  RandomizedSearchCV\n",
       "18          mntfishproducts      0.001041  RandomizedSearchCV\n",
       "19    marital_status_Single      0.001115  RandomizedSearchCV\n",
       "20             mntgoldprods      0.001213  RandomizedSearchCV\n",
       "21      numcatalogpurchases      0.001474  RandomizedSearchCV\n",
       "22             acceptedcmp5      0.001504  RandomizedSearchCV\n",
       "23                   income      0.001668  RandomizedSearchCV\n",
       "24        numwebvisitsmonth      0.001858  RandomizedSearchCV\n",
       "25         mntsweetproducts      0.001909  RandomizedSearchCV\n",
       "26        numstorepurchases      0.001969  RandomizedSearchCV\n",
       "27                 mntwines      0.002362  RandomizedSearchCV\n",
       "28          mntmeatproducts      0.003734  RandomizedSearchCV\n",
       "29             acceptedcmp3      0.005384  RandomizedSearchCV\n",
       "30              dt_customer      0.007891  RandomizedSearchCV\n",
       "31                  recency      0.027063  RandomizedSearchCV"
      ]
     },
     "execution_count": 33,
     "metadata": {},
     "output_type": "execute_result"
    }
   ],
   "source": [
    "vip = mp.result\n",
    "vip.sort_values(by=\"dropout_loss\", ascending=False)\n",
    "exclude_values = [\"_baseline_\",\"_full_model_\"]\n",
    "vip = vip.query('variable not in @exclude_values')\n",
    "vip"
   ]
  },
  {
   "cell_type": "code",
   "execution_count": 34,
   "metadata": {},
   "outputs": [
    {
     "data": {
      "application/vnd.plotly.v1+json": {
       "config": {
        "displaylogo": false,
        "modeBarButtonsToRemove": [
         "sendDataToCloud",
         "lasso2d",
         "autoScale2d",
         "select2d",
         "zoom2d",
         "pan2d",
         "zoomIn2d",
         "zoomOut2d",
         "resetScale2d",
         "toggleSpikelines",
         "hoverCompareCartesian",
         "hoverClosestCartesian"
        ],
        "plotlyServerURL": "https://plot.ly",
        "staticPlot": false,
        "toImageButtonOptions": {
         "height": null,
         "width": null
        }
       },
       "data": [
        {
         "base": 0.0004170554269678717,
         "hoverinfo": "text",
         "hoverlabel": {
          "bgcolor": "rgba(0,0,0,0.8)"
         },
         "hovertext": [
          "Model: RandomizedSearchCV loss after<br>variable: recency is permuted: 0.027<br>Drop-out loss change: +0.027",
          "Model: RandomizedSearchCV loss after<br>variable: dt_customer is permuted: 0.008<br>Drop-out loss change: +0.007",
          "Model: RandomizedSearchCV loss after<br>variable: acceptedcmp3 is permuted: 0.005<br>Drop-out loss change: +0.005",
          "Model: RandomizedSearchCV loss after<br>variable: mntmeatproducts is permuted: 0.004<br>Drop-out loss change: +0.003",
          "Model: RandomizedSearchCV loss after<br>variable: mntwines is permuted: 0.002<br>Drop-out loss change: +0.002",
          "Model: RandomizedSearchCV loss after<br>variable: numstorepurchases is permuted: 0.002<br>Drop-out loss change: +0.002",
          "Model: RandomizedSearchCV loss after<br>variable: mntsweetproducts is permuted: 0.002<br>Drop-out loss change: +0.001",
          "Model: RandomizedSearchCV loss after<br>variable: numwebvisitsmonth is permuted: 0.002<br>Drop-out loss change: +0.001",
          "Model: RandomizedSearchCV loss after<br>variable: income is permuted: 0.002<br>Drop-out loss change: +0.001",
          "Model: RandomizedSearchCV loss after<br>variable: acceptedcmp5 is permuted: 0.002<br>Drop-out loss change: +0.001"
         ],
         "marker": {
          "color": "#46bac2"
         },
         "orientation": "h",
         "showlegend": false,
         "text": [
          "+0.027",
          "+0.007",
          "+0.005",
          "+0.003",
          "+0.002",
          "+0.002",
          "+0.001",
          "+0.001",
          "+0.001",
          "+0.001"
         ],
         "textposition": "outside",
         "type": "bar",
         "x": [
          0.026645992863302204,
          0.007474040898820599,
          0.004966486873261133,
          0.003317316460722264,
          0.001945114834406314,
          0.0015519205014998482,
          0.001491666375556111,
          0.0014406948406661011,
          0.0012507846446248028,
          0.0010872606250938222
         ],
         "xaxis": "x",
         "y": [
          "recency",
          "dt_customer",
          "acceptedcmp3",
          "mntmeatproducts",
          "mntwines",
          "numstorepurchases",
          "mntsweetproducts",
          "numwebvisitsmonth",
          "income",
          "acceptedcmp5"
         ],
         "yaxis": "y"
        }
       ],
       "layout": {
        "annotations": [
         {
          "font": {
           "size": 16
          },
          "showarrow": false,
          "text": "RandomizedSearchCV",
          "x": 0.5,
          "xanchor": "center",
          "xref": "paper",
          "y": 1,
          "yanchor": "bottom",
          "yref": "paper"
         },
         {
          "font": {
           "size": 16
          },
          "showarrow": false,
          "text": "drop-out loss",
          "x": 0.5,
          "xanchor": "center",
          "xref": "paper",
          "y": 0,
          "yanchor": "top",
          "yref": "paper",
          "yshift": -30
         }
        ],
        "font": {
         "color": "#371ea3"
        },
        "height": 383,
        "margin": {
         "b": 71,
         "r": 30,
         "t": 78
        },
        "shapes": [
         {
          "line": {
           "color": "#371ea3",
           "dash": "dot",
           "width": 1.5
          },
          "type": "line",
          "x0": 0.0004170554269678717,
          "x1": 0.0004170554269678717,
          "xref": "x",
          "y0": -1,
          "y1": 10,
          "yref": "y"
         }
        ],
        "template": {
         "data": {
          "scatter": [
           {
            "type": "scatter"
           }
          ]
         }
        },
        "title": {
         "text": "Variable Importance",
         "x": 0.15
        },
        "xaxis": {
         "anchor": "y",
         "automargin": true,
         "domain": [
          0,
          1
         ],
         "fixedrange": true,
         "gridwidth": 2,
         "range": [
          -0.0035798435025274585,
          0.031059947219765405
         ],
         "tickcolor": "white",
         "ticklen": 3,
         "ticks": "outside",
         "type": "linear",
         "zeroline": false
        },
        "yaxis": {
         "anchor": "x",
         "automargin": true,
         "autorange": "reversed",
         "domain": [
          0,
          1
         ],
         "fixedrange": true,
         "gridwidth": 2,
         "tickcolor": "white",
         "ticklen": 10,
         "ticks": "outside",
         "type": "category"
        }
       }
      }
     },
     "metadata": {},
     "output_type": "display_data"
    }
   ],
   "source": [
    "mp.plot()"
   ]
  },
  {
   "cell_type": "code",
   "execution_count": 21,
   "metadata": {},
   "outputs": [
    {
     "name": "stderr",
     "output_type": "stream",
     "text": [
      "Calculating ceteris paribus:   0%|          | 0/2 [00:00<?, ?it/s]d:\\Programy\\miniconda3\\envs\\bhl9\\lib\\site-packages\\dalex\\predict_explanations\\_ceteris_paribus\\utils.py:104: FutureWarning: Setting an item of incompatible dtype is deprecated and will raise in a future error of pandas. Value '[0.   0.01 0.02 ... 0.98 0.99 1.  ]' has dtype incompatible with int64, please explicitly cast to a compatible dtype first.\n",
      "  new_data.loc[:, variable] = np.tile(split_points, data.shape[0])\n",
      "Calculating ceteris paribus:  50%|█████     | 1/2 [00:01<00:01,  1.15s/it]d:\\Programy\\miniconda3\\envs\\bhl9\\lib\\site-packages\\dalex\\predict_explanations\\_ceteris_paribus\\utils.py:104: FutureWarning: Setting an item of incompatible dtype is deprecated and will raise in a future error of pandas. Value '[ 0.    0.99  1.98 ... 97.02 98.01 99.  ]' has dtype incompatible with int64, please explicitly cast to a compatible dtype first.\n",
      "  new_data.loc[:, variable] = np.tile(split_points, data.shape[0])\n",
      "Calculating ceteris paribus: 100%|██████████| 2/2 [00:02<00:00,  1.23s/it]\n"
     ]
    }
   ],
   "source": [
    "pd_rf = exp.model_profile(variables=[\"acceptedcmp3\",\"recency\"])"
   ]
  },
  {
   "cell_type": "code",
   "execution_count": 25,
   "metadata": {},
   "outputs": [],
   "source": [
    "pd_rf = pd_rf.result"
   ]
  },
  {
   "cell_type": "code",
   "execution_count": 26,
   "metadata": {},
   "outputs": [
    {
     "data": {
      "text/html": [
       "<div>\n",
       "<style scoped>\n",
       "    .dataframe tbody tr th:only-of-type {\n",
       "        vertical-align: middle;\n",
       "    }\n",
       "\n",
       "    .dataframe tbody tr th {\n",
       "        vertical-align: top;\n",
       "    }\n",
       "\n",
       "    .dataframe thead th {\n",
       "        text-align: right;\n",
       "    }\n",
       "</style>\n",
       "<table border=\"1\" class=\"dataframe\">\n",
       "  <thead>\n",
       "    <tr style=\"text-align: right;\">\n",
       "      <th></th>\n",
       "      <th>_vname_</th>\n",
       "      <th>_label_</th>\n",
       "      <th>_x_</th>\n",
       "      <th>_yhat_</th>\n",
       "      <th>_ids_</th>\n",
       "    </tr>\n",
       "  </thead>\n",
       "  <tbody>\n",
       "    <tr>\n",
       "      <th>101</th>\n",
       "      <td>recency</td>\n",
       "      <td>RandomizedSearchCV</td>\n",
       "      <td>0.00</td>\n",
       "      <td>0.254771</td>\n",
       "      <td>0</td>\n",
       "    </tr>\n",
       "    <tr>\n",
       "      <th>102</th>\n",
       "      <td>recency</td>\n",
       "      <td>RandomizedSearchCV</td>\n",
       "      <td>0.99</td>\n",
       "      <td>0.250712</td>\n",
       "      <td>0</td>\n",
       "    </tr>\n",
       "    <tr>\n",
       "      <th>103</th>\n",
       "      <td>recency</td>\n",
       "      <td>RandomizedSearchCV</td>\n",
       "      <td>1.98</td>\n",
       "      <td>0.250203</td>\n",
       "      <td>0</td>\n",
       "    </tr>\n",
       "    <tr>\n",
       "      <th>104</th>\n",
       "      <td>recency</td>\n",
       "      <td>RandomizedSearchCV</td>\n",
       "      <td>2.97</td>\n",
       "      <td>0.244388</td>\n",
       "      <td>0</td>\n",
       "    </tr>\n",
       "    <tr>\n",
       "      <th>105</th>\n",
       "      <td>recency</td>\n",
       "      <td>RandomizedSearchCV</td>\n",
       "      <td>3.96</td>\n",
       "      <td>0.241094</td>\n",
       "      <td>0</td>\n",
       "    </tr>\n",
       "    <tr>\n",
       "      <th>...</th>\n",
       "      <td>...</td>\n",
       "      <td>...</td>\n",
       "      <td>...</td>\n",
       "      <td>...</td>\n",
       "      <td>...</td>\n",
       "    </tr>\n",
       "    <tr>\n",
       "      <th>197</th>\n",
       "      <td>recency</td>\n",
       "      <td>RandomizedSearchCV</td>\n",
       "      <td>95.04</td>\n",
       "      <td>0.113619</td>\n",
       "      <td>0</td>\n",
       "    </tr>\n",
       "    <tr>\n",
       "      <th>198</th>\n",
       "      <td>recency</td>\n",
       "      <td>RandomizedSearchCV</td>\n",
       "      <td>96.03</td>\n",
       "      <td>0.114411</td>\n",
       "      <td>0</td>\n",
       "    </tr>\n",
       "    <tr>\n",
       "      <th>199</th>\n",
       "      <td>recency</td>\n",
       "      <td>RandomizedSearchCV</td>\n",
       "      <td>97.02</td>\n",
       "      <td>0.114494</td>\n",
       "      <td>0</td>\n",
       "    </tr>\n",
       "    <tr>\n",
       "      <th>200</th>\n",
       "      <td>recency</td>\n",
       "      <td>RandomizedSearchCV</td>\n",
       "      <td>98.01</td>\n",
       "      <td>0.114781</td>\n",
       "      <td>0</td>\n",
       "    </tr>\n",
       "    <tr>\n",
       "      <th>201</th>\n",
       "      <td>recency</td>\n",
       "      <td>RandomizedSearchCV</td>\n",
       "      <td>99.00</td>\n",
       "      <td>0.114781</td>\n",
       "      <td>0</td>\n",
       "    </tr>\n",
       "  </tbody>\n",
       "</table>\n",
       "<p>101 rows × 5 columns</p>\n",
       "</div>"
      ],
      "text/plain": [
       "     _vname_             _label_    _x_    _yhat_  _ids_\n",
       "101  recency  RandomizedSearchCV   0.00  0.254771      0\n",
       "102  recency  RandomizedSearchCV   0.99  0.250712      0\n",
       "103  recency  RandomizedSearchCV   1.98  0.250203      0\n",
       "104  recency  RandomizedSearchCV   2.97  0.244388      0\n",
       "105  recency  RandomizedSearchCV   3.96  0.241094      0\n",
       "..       ...                 ...    ...       ...    ...\n",
       "197  recency  RandomizedSearchCV  95.04  0.113619      0\n",
       "198  recency  RandomizedSearchCV  96.03  0.114411      0\n",
       "199  recency  RandomizedSearchCV  97.02  0.114494      0\n",
       "200  recency  RandomizedSearchCV  98.01  0.114781      0\n",
       "201  recency  RandomizedSearchCV  99.00  0.114781      0\n",
       "\n",
       "[101 rows x 5 columns]"
      ]
     },
     "execution_count": 26,
     "metadata": {},
     "output_type": "execute_result"
    }
   ],
   "source": [
    "pd_rf[pd_rf[\"_vname_\"]==\"recency\"]"
   ]
  },
  {
   "cell_type": "code",
   "execution_count": 38,
   "metadata": {},
   "outputs": [],
   "source": [
    "colors = ['blue' if val < max(pd_rf[\"_yhat_\"])-0.1*max(pd_rf[\"_yhat_\"]) else 'green' for val in pd_rf['_yhat_']]"
   ]
  },
  {
   "cell_type": "code",
   "execution_count": null,
   "metadata": {},
   "outputs": [],
   "source": [
    "fig = go.Figure()\n",
    "\n",
    "for i in range(len(df) - 1):\n",
    "    fig.add_trace(go.Scatter(\n",
    "        x=df['_x_'].iloc[i:i+2],\n",
    "        y=df['_yhat_'].iloc[i:i+2],\n",
    "        mode='lines',\n",
    "        line=dict(color=colors[i]),\n",
    "        showlegend=False\n",
    "    ))\n",
    "\n",
    "fig.update_layout(\n",
    "    title='Line Plot',\n",
    "    xaxis=dict(title='Wartość'),\n",
    "    yaxis=dict(title='Prawdopodobieństwo')\n",
    ")"
   ]
  },
  {
   "cell_type": "code",
   "execution_count": 15,
   "metadata": {},
   "outputs": [
    {
     "data": {
      "application/vnd.plotly.v1+json": {
       "config": {
        "displaylogo": false,
        "modeBarButtonsToRemove": [
         "sendDataToCloud",
         "lasso2d",
         "autoScale2d",
         "select2d",
         "zoom2d",
         "pan2d",
         "zoomIn2d",
         "zoomOut2d",
         "resetScale2d",
         "toggleSpikelines",
         "hoverCompareCartesian",
         "hoverClosestCartesian"
        ],
        "plotlyServerURL": "https://plot.ly",
        "staticPlot": false,
        "toImageButtonOptions": {
         "height": null,
         "width": null
        }
       },
       "data": [
        {
         "alignmentgroup": "True",
         "base": [
          0.12343292453195984,
          0.12343292453195984,
          0.12343292453195984,
          0.12343292453195984,
          0.12343292453195984,
          0.12343292453195984,
          0.12343292453195984,
          0.12343292453195984,
          0.12343292453195984,
          0.12343292453195984,
          0.12343292453195984,
          0.12343292453195984,
          0.12343292453195984,
          0.12343292453195984,
          0.12343292453195984,
          0.12343292453195984,
          0.12343292453195984,
          0.12343292453195984,
          0.12343292453195984,
          0.12343292453195984,
          0.12343292453195984,
          0.12343292453195984,
          0.12343292453195984,
          0.12343292453195984,
          0.12343292453195984,
          0.12343292453195984,
          0.12343292453195984,
          0.12343292453195984,
          0.12343292453195984,
          0.12343292453195984,
          0.12343292453195984,
          0.12343292453195984,
          0.12343292453195984,
          0.12343292453195984,
          0.12343292453195984,
          0.12343292453195984,
          0.12343292453195984,
          0.12343292453195984,
          0.12343292453195984,
          0.12343292453195984,
          0.12343292453195984,
          0.12343292453195984,
          0.12343292453195984,
          0.12343292453195984,
          0.12343292453195984,
          0.12343292453195984,
          0.12343292453195984,
          0.12343292453195984,
          0.12343292453195984,
          0.12343292453195984,
          0.12343292453195984,
          0.12343292453195984,
          0.12343292453195984,
          0.12343292453195984,
          0.12343292453195984,
          0.12343292453195984,
          0.12343292453195984,
          0.12343292453195984,
          0.12343292453195984,
          0.12343292453195984,
          0.12343292453195984,
          0.12343292453195984,
          0.12343292453195984,
          0.12343292453195984,
          0.12343292453195984,
          0.12343292453195984,
          0.12343292453195984,
          0.12343292453195984,
          0.12343292453195984,
          0.12343292453195984,
          0.12343292453195984,
          0.12343292453195984,
          0.12343292453195984,
          0.12343292453195984,
          0.12343292453195984,
          0.12343292453195984,
          0.12343292453195984,
          0.12343292453195984,
          0.12343292453195984,
          0.12343292453195984,
          0.12343292453195984,
          0.12343292453195984,
          0.12343292453195984,
          0.12343292453195984,
          0.12343292453195984,
          0.12343292453195984,
          0.12343292453195984,
          0.12343292453195984,
          0.12343292453195984,
          0.12343292453195984,
          0.12343292453195984,
          0.12343292453195984,
          0.12343292453195984,
          0.12343292453195984,
          0.12343292453195984,
          0.12343292453195984,
          0.12343292453195984,
          0.12343292453195984,
          0.12343292453195984,
          0.12343292453195984,
          0.12343292453195984
         ],
         "customdata": [
          [
           0.11787550144791471,
           "RandomizedSearchCV",
           "acceptedcmp3"
          ],
          [
           0.11787550144791471,
           "RandomizedSearchCV",
           "acceptedcmp3"
          ],
          [
           0.11787550144791471,
           "RandomizedSearchCV",
           "acceptedcmp3"
          ],
          [
           0.11787550144791471,
           "RandomizedSearchCV",
           "acceptedcmp3"
          ],
          [
           0.11787550144791471,
           "RandomizedSearchCV",
           "acceptedcmp3"
          ],
          [
           0.11787550144791471,
           "RandomizedSearchCV",
           "acceptedcmp3"
          ],
          [
           0.11787550144791471,
           "RandomizedSearchCV",
           "acceptedcmp3"
          ],
          [
           0.11787550144791471,
           "RandomizedSearchCV",
           "acceptedcmp3"
          ],
          [
           0.11787550144791471,
           "RandomizedSearchCV",
           "acceptedcmp3"
          ],
          [
           0.11787550144791471,
           "RandomizedSearchCV",
           "acceptedcmp3"
          ],
          [
           0.11787550144791471,
           "RandomizedSearchCV",
           "acceptedcmp3"
          ],
          [
           0.11787550144791471,
           "RandomizedSearchCV",
           "acceptedcmp3"
          ],
          [
           0.11787550144791471,
           "RandomizedSearchCV",
           "acceptedcmp3"
          ],
          [
           0.11787550144791471,
           "RandomizedSearchCV",
           "acceptedcmp3"
          ],
          [
           0.11787550144791471,
           "RandomizedSearchCV",
           "acceptedcmp3"
          ],
          [
           0.11787550144791471,
           "RandomizedSearchCV",
           "acceptedcmp3"
          ],
          [
           0.11787550144791471,
           "RandomizedSearchCV",
           "acceptedcmp3"
          ],
          [
           0.11787550144791471,
           "RandomizedSearchCV",
           "acceptedcmp3"
          ],
          [
           0.11787550144791471,
           "RandomizedSearchCV",
           "acceptedcmp3"
          ],
          [
           0.11787550144791471,
           "RandomizedSearchCV",
           "acceptedcmp3"
          ],
          [
           0.11787550144791471,
           "RandomizedSearchCV",
           "acceptedcmp3"
          ],
          [
           0.11787550144791471,
           "RandomizedSearchCV",
           "acceptedcmp3"
          ],
          [
           0.11787550144791471,
           "RandomizedSearchCV",
           "acceptedcmp3"
          ],
          [
           0.11787550144791471,
           "RandomizedSearchCV",
           "acceptedcmp3"
          ],
          [
           0.11787550144791471,
           "RandomizedSearchCV",
           "acceptedcmp3"
          ],
          [
           0.11787550144791471,
           "RandomizedSearchCV",
           "acceptedcmp3"
          ],
          [
           0.11787550144791471,
           "RandomizedSearchCV",
           "acceptedcmp3"
          ],
          [
           0.11787550144791471,
           "RandomizedSearchCV",
           "acceptedcmp3"
          ],
          [
           0.11787550144791471,
           "RandomizedSearchCV",
           "acceptedcmp3"
          ],
          [
           0.11787550144791471,
           "RandomizedSearchCV",
           "acceptedcmp3"
          ],
          [
           0.11787550144791471,
           "RandomizedSearchCV",
           "acceptedcmp3"
          ],
          [
           0.11787550144791471,
           "RandomizedSearchCV",
           "acceptedcmp3"
          ],
          [
           0.11787550144791471,
           "RandomizedSearchCV",
           "acceptedcmp3"
          ],
          [
           0.11787550144791471,
           "RandomizedSearchCV",
           "acceptedcmp3"
          ],
          [
           0.11787550144791471,
           "RandomizedSearchCV",
           "acceptedcmp3"
          ],
          [
           0.11787550144791471,
           "RandomizedSearchCV",
           "acceptedcmp3"
          ],
          [
           0.11787550144791471,
           "RandomizedSearchCV",
           "acceptedcmp3"
          ],
          [
           0.11787550144791471,
           "RandomizedSearchCV",
           "acceptedcmp3"
          ],
          [
           0.11787550144791471,
           "RandomizedSearchCV",
           "acceptedcmp3"
          ],
          [
           0.11787550144791471,
           "RandomizedSearchCV",
           "acceptedcmp3"
          ],
          [
           0.11787550144791471,
           "RandomizedSearchCV",
           "acceptedcmp3"
          ],
          [
           0.11787550144791471,
           "RandomizedSearchCV",
           "acceptedcmp3"
          ],
          [
           0.11787550144791471,
           "RandomizedSearchCV",
           "acceptedcmp3"
          ],
          [
           0.11787550144791471,
           "RandomizedSearchCV",
           "acceptedcmp3"
          ],
          [
           0.11787550144791471,
           "RandomizedSearchCV",
           "acceptedcmp3"
          ],
          [
           0.11787550144791471,
           "RandomizedSearchCV",
           "acceptedcmp3"
          ],
          [
           0.11787550144791471,
           "RandomizedSearchCV",
           "acceptedcmp3"
          ],
          [
           0.11787550144791471,
           "RandomizedSearchCV",
           "acceptedcmp3"
          ],
          [
           0.11787550144791471,
           "RandomizedSearchCV",
           "acceptedcmp3"
          ],
          [
           0.11787550144791471,
           "RandomizedSearchCV",
           "acceptedcmp3"
          ],
          [
           0.11787550144791471,
           "RandomizedSearchCV",
           "acceptedcmp3"
          ],
          [
           0.2570798634161489,
           "RandomizedSearchCV",
           "acceptedcmp3"
          ],
          [
           0.2570798634161489,
           "RandomizedSearchCV",
           "acceptedcmp3"
          ],
          [
           0.2570798634161489,
           "RandomizedSearchCV",
           "acceptedcmp3"
          ],
          [
           0.2570798634161489,
           "RandomizedSearchCV",
           "acceptedcmp3"
          ],
          [
           0.2570798634161489,
           "RandomizedSearchCV",
           "acceptedcmp3"
          ],
          [
           0.2570798634161489,
           "RandomizedSearchCV",
           "acceptedcmp3"
          ],
          [
           0.2570798634161489,
           "RandomizedSearchCV",
           "acceptedcmp3"
          ],
          [
           0.2570798634161489,
           "RandomizedSearchCV",
           "acceptedcmp3"
          ],
          [
           0.2570798634161489,
           "RandomizedSearchCV",
           "acceptedcmp3"
          ],
          [
           0.2570798634161489,
           "RandomizedSearchCV",
           "acceptedcmp3"
          ],
          [
           0.2570798634161489,
           "RandomizedSearchCV",
           "acceptedcmp3"
          ],
          [
           0.2570798634161489,
           "RandomizedSearchCV",
           "acceptedcmp3"
          ],
          [
           0.2570798634161489,
           "RandomizedSearchCV",
           "acceptedcmp3"
          ],
          [
           0.2570798634161489,
           "RandomizedSearchCV",
           "acceptedcmp3"
          ],
          [
           0.2570798634161489,
           "RandomizedSearchCV",
           "acceptedcmp3"
          ],
          [
           0.2570798634161489,
           "RandomizedSearchCV",
           "acceptedcmp3"
          ],
          [
           0.2570798634161489,
           "RandomizedSearchCV",
           "acceptedcmp3"
          ],
          [
           0.2570798634161489,
           "RandomizedSearchCV",
           "acceptedcmp3"
          ],
          [
           0.2570798634161489,
           "RandomizedSearchCV",
           "acceptedcmp3"
          ],
          [
           0.2570798634161489,
           "RandomizedSearchCV",
           "acceptedcmp3"
          ],
          [
           0.2570798634161489,
           "RandomizedSearchCV",
           "acceptedcmp3"
          ],
          [
           0.2570798634161489,
           "RandomizedSearchCV",
           "acceptedcmp3"
          ],
          [
           0.2570798634161489,
           "RandomizedSearchCV",
           "acceptedcmp3"
          ],
          [
           0.2570798634161489,
           "RandomizedSearchCV",
           "acceptedcmp3"
          ],
          [
           0.2570798634161489,
           "RandomizedSearchCV",
           "acceptedcmp3"
          ],
          [
           0.2570798634161489,
           "RandomizedSearchCV",
           "acceptedcmp3"
          ],
          [
           0.2570798634161489,
           "RandomizedSearchCV",
           "acceptedcmp3"
          ],
          [
           0.2570798634161489,
           "RandomizedSearchCV",
           "acceptedcmp3"
          ],
          [
           0.2570798634161489,
           "RandomizedSearchCV",
           "acceptedcmp3"
          ],
          [
           0.2570798634161489,
           "RandomizedSearchCV",
           "acceptedcmp3"
          ],
          [
           0.2570798634161489,
           "RandomizedSearchCV",
           "acceptedcmp3"
          ],
          [
           0.2570798634161489,
           "RandomizedSearchCV",
           "acceptedcmp3"
          ],
          [
           0.2570798634161489,
           "RandomizedSearchCV",
           "acceptedcmp3"
          ],
          [
           0.2570798634161489,
           "RandomizedSearchCV",
           "acceptedcmp3"
          ],
          [
           0.2570798634161489,
           "RandomizedSearchCV",
           "acceptedcmp3"
          ],
          [
           0.2570798634161489,
           "RandomizedSearchCV",
           "acceptedcmp3"
          ],
          [
           0.2570798634161489,
           "RandomizedSearchCV",
           "acceptedcmp3"
          ],
          [
           0.2570798634161489,
           "RandomizedSearchCV",
           "acceptedcmp3"
          ],
          [
           0.2570798634161489,
           "RandomizedSearchCV",
           "acceptedcmp3"
          ],
          [
           0.2570798634161489,
           "RandomizedSearchCV",
           "acceptedcmp3"
          ],
          [
           0.2570798634161489,
           "RandomizedSearchCV",
           "acceptedcmp3"
          ],
          [
           0.2570798634161489,
           "RandomizedSearchCV",
           "acceptedcmp3"
          ],
          [
           0.2570798634161489,
           "RandomizedSearchCV",
           "acceptedcmp3"
          ],
          [
           0.2570798634161489,
           "RandomizedSearchCV",
           "acceptedcmp3"
          ],
          [
           0.2570798634161489,
           "RandomizedSearchCV",
           "acceptedcmp3"
          ],
          [
           0.2570798634161489,
           "RandomizedSearchCV",
           "acceptedcmp3"
          ],
          [
           0.2570798634161489,
           "RandomizedSearchCV",
           "acceptedcmp3"
          ],
          [
           0.2570798634161489,
           "RandomizedSearchCV",
           "acceptedcmp3"
          ],
          [
           0.2570798634161489,
           "RandomizedSearchCV",
           "acceptedcmp3"
          ],
          [
           0.2570798634161489,
           "RandomizedSearchCV",
           "acceptedcmp3"
          ]
         ],
         "hovertemplate": "<b>%{hovertext}</b><br><br>mean_prediction=%{base:.3f}<br>prediction=%{customdata[0]:.3f}<extra></extra>",
         "hovertext": [
          "RandomizedSearchCV",
          "RandomizedSearchCV",
          "RandomizedSearchCV",
          "RandomizedSearchCV",
          "RandomizedSearchCV",
          "RandomizedSearchCV",
          "RandomizedSearchCV",
          "RandomizedSearchCV",
          "RandomizedSearchCV",
          "RandomizedSearchCV",
          "RandomizedSearchCV",
          "RandomizedSearchCV",
          "RandomizedSearchCV",
          "RandomizedSearchCV",
          "RandomizedSearchCV",
          "RandomizedSearchCV",
          "RandomizedSearchCV",
          "RandomizedSearchCV",
          "RandomizedSearchCV",
          "RandomizedSearchCV",
          "RandomizedSearchCV",
          "RandomizedSearchCV",
          "RandomizedSearchCV",
          "RandomizedSearchCV",
          "RandomizedSearchCV",
          "RandomizedSearchCV",
          "RandomizedSearchCV",
          "RandomizedSearchCV",
          "RandomizedSearchCV",
          "RandomizedSearchCV",
          "RandomizedSearchCV",
          "RandomizedSearchCV",
          "RandomizedSearchCV",
          "RandomizedSearchCV",
          "RandomizedSearchCV",
          "RandomizedSearchCV",
          "RandomizedSearchCV",
          "RandomizedSearchCV",
          "RandomizedSearchCV",
          "RandomizedSearchCV",
          "RandomizedSearchCV",
          "RandomizedSearchCV",
          "RandomizedSearchCV",
          "RandomizedSearchCV",
          "RandomizedSearchCV",
          "RandomizedSearchCV",
          "RandomizedSearchCV",
          "RandomizedSearchCV",
          "RandomizedSearchCV",
          "RandomizedSearchCV",
          "RandomizedSearchCV",
          "RandomizedSearchCV",
          "RandomizedSearchCV",
          "RandomizedSearchCV",
          "RandomizedSearchCV",
          "RandomizedSearchCV",
          "RandomizedSearchCV",
          "RandomizedSearchCV",
          "RandomizedSearchCV",
          "RandomizedSearchCV",
          "RandomizedSearchCV",
          "RandomizedSearchCV",
          "RandomizedSearchCV",
          "RandomizedSearchCV",
          "RandomizedSearchCV",
          "RandomizedSearchCV",
          "RandomizedSearchCV",
          "RandomizedSearchCV",
          "RandomizedSearchCV",
          "RandomizedSearchCV",
          "RandomizedSearchCV",
          "RandomizedSearchCV",
          "RandomizedSearchCV",
          "RandomizedSearchCV",
          "RandomizedSearchCV",
          "RandomizedSearchCV",
          "RandomizedSearchCV",
          "RandomizedSearchCV",
          "RandomizedSearchCV",
          "RandomizedSearchCV",
          "RandomizedSearchCV",
          "RandomizedSearchCV",
          "RandomizedSearchCV",
          "RandomizedSearchCV",
          "RandomizedSearchCV",
          "RandomizedSearchCV",
          "RandomizedSearchCV",
          "RandomizedSearchCV",
          "RandomizedSearchCV",
          "RandomizedSearchCV",
          "RandomizedSearchCV",
          "RandomizedSearchCV",
          "RandomizedSearchCV",
          "RandomizedSearchCV",
          "RandomizedSearchCV",
          "RandomizedSearchCV",
          "RandomizedSearchCV",
          "RandomizedSearchCV",
          "RandomizedSearchCV",
          "RandomizedSearchCV",
          "RandomizedSearchCV"
         ],
         "legendgroup": "RandomizedSearchCV",
         "marker": {
          "color": "#46bac2",
          "pattern": {
           "shape": ""
          }
         },
         "name": "RandomizedSearchCV",
         "offsetgroup": "RandomizedSearchCV",
         "orientation": "v",
         "showlegend": true,
         "textposition": "auto",
         "type": "bar",
         "x": [
          "0.0",
          "0.01",
          "0.02",
          "0.03",
          "0.04",
          "0.05",
          "0.06",
          "0.07",
          "0.08",
          "0.09",
          "0.1",
          "0.11",
          "0.12",
          "0.13",
          "0.14",
          "0.15",
          "0.16",
          "0.17",
          "0.18",
          "0.19",
          "0.2",
          "0.21",
          "0.22",
          "0.23",
          "0.24",
          "0.25",
          "0.26",
          "0.27",
          "0.28",
          "0.29",
          "0.3",
          "0.31",
          "0.32",
          "0.33",
          "0.34",
          "0.35000000000000003",
          "0.36",
          "0.37",
          "0.38",
          "0.39",
          "0.4",
          "0.41000000000000003",
          "0.42",
          "0.43",
          "0.44",
          "0.45",
          "0.46",
          "0.47000000000000003",
          "0.48",
          "0.49",
          "0.5",
          "0.51",
          "0.52",
          "0.53",
          "0.54",
          "0.55",
          "0.56",
          "0.5700000000000001",
          "0.58",
          "0.59",
          "0.6",
          "0.61",
          "0.62",
          "0.63",
          "0.64",
          "0.65",
          "0.66",
          "0.67",
          "0.68",
          "0.6900000000000001",
          "0.7000000000000001",
          "0.71",
          "0.72",
          "0.73",
          "0.74",
          "0.75",
          "0.76",
          "0.77",
          "0.78",
          "0.79",
          "0.8",
          "0.81",
          "0.8200000000000001",
          "0.8300000000000001",
          "0.84",
          "0.85",
          "0.86",
          "0.87",
          "0.88",
          "0.89",
          "0.9",
          "0.91",
          "0.92",
          "0.93",
          "0.9400000000000001",
          "0.9500000000000001",
          "0.96",
          "0.97",
          "0.98",
          "0.99",
          "1.0"
         ],
         "xaxis": "x",
         "y": [
          -0.005557423084045124,
          -0.005557423084045124,
          -0.005557423084045124,
          -0.005557423084045124,
          -0.005557423084045124,
          -0.005557423084045124,
          -0.005557423084045124,
          -0.005557423084045124,
          -0.005557423084045124,
          -0.005557423084045124,
          -0.005557423084045124,
          -0.005557423084045124,
          -0.005557423084045124,
          -0.005557423084045124,
          -0.005557423084045124,
          -0.005557423084045124,
          -0.005557423084045124,
          -0.005557423084045124,
          -0.005557423084045124,
          -0.005557423084045124,
          -0.005557423084045124,
          -0.005557423084045124,
          -0.005557423084045124,
          -0.005557423084045124,
          -0.005557423084045124,
          -0.005557423084045124,
          -0.005557423084045124,
          -0.005557423084045124,
          -0.005557423084045124,
          -0.005557423084045124,
          -0.005557423084045124,
          -0.005557423084045124,
          -0.005557423084045124,
          -0.005557423084045124,
          -0.005557423084045124,
          -0.005557423084045124,
          -0.005557423084045124,
          -0.005557423084045124,
          -0.005557423084045124,
          -0.005557423084045124,
          -0.005557423084045124,
          -0.005557423084045124,
          -0.005557423084045124,
          -0.005557423084045124,
          -0.005557423084045124,
          -0.005557423084045124,
          -0.005557423084045124,
          -0.005557423084045124,
          -0.005557423084045124,
          -0.005557423084045124,
          -0.005557423084045124,
          0.13364693888418908,
          0.13364693888418908,
          0.13364693888418908,
          0.13364693888418908,
          0.13364693888418908,
          0.13364693888418908,
          0.13364693888418908,
          0.13364693888418908,
          0.13364693888418908,
          0.13364693888418908,
          0.13364693888418908,
          0.13364693888418908,
          0.13364693888418908,
          0.13364693888418908,
          0.13364693888418908,
          0.13364693888418908,
          0.13364693888418908,
          0.13364693888418908,
          0.13364693888418908,
          0.13364693888418908,
          0.13364693888418908,
          0.13364693888418908,
          0.13364693888418908,
          0.13364693888418908,
          0.13364693888418908,
          0.13364693888418908,
          0.13364693888418908,
          0.13364693888418908,
          0.13364693888418908,
          0.13364693888418908,
          0.13364693888418908,
          0.13364693888418908,
          0.13364693888418908,
          0.13364693888418908,
          0.13364693888418908,
          0.13364693888418908,
          0.13364693888418908,
          0.13364693888418908,
          0.13364693888418908,
          0.13364693888418908,
          0.13364693888418908,
          0.13364693888418908,
          0.13364693888418908,
          0.13364693888418908,
          0.13364693888418908,
          0.13364693888418908,
          0.13364693888418908,
          0.13364693888418908,
          0.13364693888418908,
          0.13364693888418908
         ],
         "yaxis": "y"
        }
       ],
       "layout": {
        "annotations": [
         {
          "font": {
           "size": 13
          },
          "showarrow": false,
          "text": "acceptedcmp3",
          "x": 0.5,
          "xanchor": "center",
          "xref": "paper",
          "y": 1,
          "yanchor": "bottom",
          "yref": "paper"
         },
         {
          "font": {
           "size": 13
          },
          "showarrow": false,
          "text": "prediction",
          "textangle": -90,
          "x": -0.07,
          "xref": "paper",
          "y": 0.5,
          "yref": "paper"
         }
        ],
        "barmode": "group",
        "font": {
         "color": "#371ea3"
        },
        "height": 489,
        "hovermode": "x unified",
        "legend": {
         "font": {
          "size": 11
         },
         "itemsizing": "constant",
         "orientation": "h",
         "title": {
          "font": {
           "size": 12
          },
          "text": "label"
         },
         "tracegroupgap": 0,
         "x": 1,
         "xanchor": "right",
         "y": 1.0613496932515338,
         "yanchor": "bottom"
        },
        "margin": {
         "b": 71,
         "r": 30,
         "t": 78
        },
        "shapes": [
         {
          "layer": "below",
          "line": {
           "color": "#371ea3",
           "dash": "dot",
           "width": 1.5
          },
          "type": "line",
          "x0": 0,
          "x1": 1,
          "xref": "x domain",
          "y0": 0.12343292453195984,
          "y1": 0.12343292453195984,
          "yref": "y"
         }
        ],
        "template": {
         "data": {
          "scatter": [
           {
            "type": "scatter"
           }
          ]
         }
        },
        "title": {
         "font": {
          "size": 16
         },
         "text": "Aggregated Profiles",
         "x": 0.15
        },
        "xaxis": {
         "anchor": "y",
         "automargin": true,
         "domain": [
          0,
          1
         ],
         "fixedrange": true,
         "gridwidth": 2,
         "showticklabels": true,
         "tickcolor": "white",
         "ticklen": 10,
         "ticks": "outside",
         "title": {
          "text": ""
         },
         "type": "category"
        },
        "yaxis": {
         "anchor": "x",
         "automargin": true,
         "domain": [
          0,
          1
         ],
         "fixedrange": true,
         "gridwidth": 2,
         "range": [
          0.10395506525109129,
          0.27100029961297234
         ],
         "tickcolor": "white",
         "ticklen": 3,
         "ticks": "outside",
         "title": {
          "text": ""
         },
         "type": "linear",
         "zeroline": false
        }
       }
      }
     },
     "metadata": {},
     "output_type": "display_data"
    }
   ],
   "source": [
    "pd_rf.plot()"
   ]
  }
 ],
 "metadata": {
  "kernelspec": {
   "display_name": "bhl9",
   "language": "python",
   "name": "python3"
  },
  "language_info": {
   "codemirror_mode": {
    "name": "ipython",
    "version": 3
   },
   "file_extension": ".py",
   "mimetype": "text/x-python",
   "name": "python",
   "nbconvert_exporter": "python",
   "pygments_lexer": "ipython3",
   "version": "3.10.14"
  }
 },
 "nbformat": 4,
 "nbformat_minor": 2
}
